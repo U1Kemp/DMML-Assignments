{
 "cells": [
  {
   "cell_type": "markdown",
   "metadata": {},
   "source": [
    "# **DMML Assignment 1**\n",
    "## Task 1: Customer Churn\n",
    "submission by: \n",
    "\n",
    "Utpalraj Kemprai (MDS202352)\n",
    "\n",
    "Aryan Joshi"
   ]
  },
  {
   "cell_type": "code",
   "execution_count": 1,
   "metadata": {},
   "outputs": [],
   "source": [
    "# importing libraries for use\n",
    "# python version 3.8.5\n",
    "import seaborn as sns\n",
    "import pandas as pd\n",
    "from sklearn.ensemble import RandomForestClassifier, AdaBoostClassifier\n",
    "from sklearn.metrics import f1_score,confusion_matrix,precision_score,recall_score,classification_report"
   ]
  },
  {
   "cell_type": "markdown",
   "metadata": {},
   "source": [
    "### Storing data in a dataframe"
   ]
  },
  {
   "cell_type": "code",
   "execution_count": 227,
   "metadata": {},
   "outputs": [
    {
     "data": {
      "text/html": [
       "<div>\n",
       "<style scoped>\n",
       "    .dataframe tbody tr th:only-of-type {\n",
       "        vertical-align: middle;\n",
       "    }\n",
       "\n",
       "    .dataframe tbody tr th {\n",
       "        vertical-align: top;\n",
       "    }\n",
       "\n",
       "    .dataframe thead th {\n",
       "        text-align: right;\n",
       "    }\n",
       "</style>\n",
       "<table border=\"1\" class=\"dataframe\">\n",
       "  <thead>\n",
       "    <tr style=\"text-align: right;\">\n",
       "      <th></th>\n",
       "      <th>CustomerID</th>\n",
       "      <th>Age</th>\n",
       "      <th>Gender</th>\n",
       "      <th>AnnualIncome</th>\n",
       "      <th>TotalSpend</th>\n",
       "      <th>YearsAsCustomer</th>\n",
       "      <th>NumOfPurchases</th>\n",
       "      <th>AvgTransactionAmount</th>\n",
       "      <th>NumOfReturns</th>\n",
       "      <th>NumOfSupportQueries</th>\n",
       "      <th>SatisfactionScore</th>\n",
       "      <th>LastPurchaseDaysAgo</th>\n",
       "      <th>EmailOptIn</th>\n",
       "      <th>PromotionResponse</th>\n",
       "      <th>Churn</th>\n",
       "    </tr>\n",
       "  </thead>\n",
       "  <tbody>\n",
       "    <tr>\n",
       "      <th>0</th>\n",
       "      <td>1</td>\n",
       "      <td>62</td>\n",
       "      <td>Other</td>\n",
       "      <td>45.15</td>\n",
       "      <td>5892.58</td>\n",
       "      <td>5</td>\n",
       "      <td>22</td>\n",
       "      <td>453.80</td>\n",
       "      <td>2</td>\n",
       "      <td>0</td>\n",
       "      <td>3</td>\n",
       "      <td>129</td>\n",
       "      <td>True</td>\n",
       "      <td>Responded</td>\n",
       "      <td>True</td>\n",
       "    </tr>\n",
       "    <tr>\n",
       "      <th>1</th>\n",
       "      <td>2</td>\n",
       "      <td>65</td>\n",
       "      <td>Male</td>\n",
       "      <td>79.51</td>\n",
       "      <td>9025.47</td>\n",
       "      <td>13</td>\n",
       "      <td>77</td>\n",
       "      <td>22.90</td>\n",
       "      <td>2</td>\n",
       "      <td>2</td>\n",
       "      <td>3</td>\n",
       "      <td>227</td>\n",
       "      <td>False</td>\n",
       "      <td>Responded</td>\n",
       "      <td>False</td>\n",
       "    </tr>\n",
       "    <tr>\n",
       "      <th>2</th>\n",
       "      <td>3</td>\n",
       "      <td>18</td>\n",
       "      <td>Male</td>\n",
       "      <td>29.19</td>\n",
       "      <td>618.83</td>\n",
       "      <td>13</td>\n",
       "      <td>71</td>\n",
       "      <td>50.53</td>\n",
       "      <td>5</td>\n",
       "      <td>2</td>\n",
       "      <td>2</td>\n",
       "      <td>283</td>\n",
       "      <td>False</td>\n",
       "      <td>Responded</td>\n",
       "      <td>True</td>\n",
       "    </tr>\n",
       "    <tr>\n",
       "      <th>3</th>\n",
       "      <td>4</td>\n",
       "      <td>21</td>\n",
       "      <td>Other</td>\n",
       "      <td>79.63</td>\n",
       "      <td>9110.30</td>\n",
       "      <td>3</td>\n",
       "      <td>33</td>\n",
       "      <td>411.83</td>\n",
       "      <td>5</td>\n",
       "      <td>3</td>\n",
       "      <td>5</td>\n",
       "      <td>226</td>\n",
       "      <td>True</td>\n",
       "      <td>Ignored</td>\n",
       "      <td>True</td>\n",
       "    </tr>\n",
       "    <tr>\n",
       "      <th>4</th>\n",
       "      <td>5</td>\n",
       "      <td>21</td>\n",
       "      <td>Other</td>\n",
       "      <td>77.66</td>\n",
       "      <td>5390.88</td>\n",
       "      <td>15</td>\n",
       "      <td>43</td>\n",
       "      <td>101.19</td>\n",
       "      <td>3</td>\n",
       "      <td>0</td>\n",
       "      <td>5</td>\n",
       "      <td>242</td>\n",
       "      <td>False</td>\n",
       "      <td>Unsubscribed</td>\n",
       "      <td>False</td>\n",
       "    </tr>\n",
       "  </tbody>\n",
       "</table>\n",
       "</div>"
      ],
      "text/plain": [
       "   CustomerID  Age Gender  AnnualIncome  TotalSpend  YearsAsCustomer  \\\n",
       "0           1   62  Other         45.15     5892.58                5   \n",
       "1           2   65   Male         79.51     9025.47               13   \n",
       "2           3   18   Male         29.19      618.83               13   \n",
       "3           4   21  Other         79.63     9110.30                3   \n",
       "4           5   21  Other         77.66     5390.88               15   \n",
       "\n",
       "   NumOfPurchases  AvgTransactionAmount  NumOfReturns  NumOfSupportQueries  \\\n",
       "0              22                453.80             2                    0   \n",
       "1              77                 22.90             2                    2   \n",
       "2              71                 50.53             5                    2   \n",
       "3              33                411.83             5                    3   \n",
       "4              43                101.19             3                    0   \n",
       "\n",
       "   SatisfactionScore  LastPurchaseDaysAgo  EmailOptIn PromotionResponse  Churn  \n",
       "0                  3                  129        True         Responded   True  \n",
       "1                  3                  227       False         Responded  False  \n",
       "2                  2                  283       False         Responded   True  \n",
       "3                  5                  226        True           Ignored   True  \n",
       "4                  5                  242       False      Unsubscribed  False  "
      ]
     },
     "execution_count": 227,
     "metadata": {},
     "output_type": "execute_result"
    }
   ],
   "source": [
    "data = pd.read_csv(\"customer-churn-data.csv\")\n",
    "data.head() #checking first few values"
   ]
  },
  {
   "cell_type": "code",
   "execution_count": 228,
   "metadata": {},
   "outputs": [
    {
     "data": {
      "text/plain": [
       "(1000, 15)"
      ]
     },
     "execution_count": 228,
     "metadata": {},
     "output_type": "execute_result"
    }
   ],
   "source": [
    "data.shape"
   ]
  },
  {
   "cell_type": "markdown",
   "metadata": {},
   "source": [
    "### Checking data types of each column"
   ]
  },
  {
   "cell_type": "code",
   "execution_count": 229,
   "metadata": {},
   "outputs": [
    {
     "data": {
      "text/plain": [
       "CustomerID                int64\n",
       "Age                       int64\n",
       "Gender                   object\n",
       "AnnualIncome            float64\n",
       "TotalSpend              float64\n",
       "YearsAsCustomer           int64\n",
       "NumOfPurchases            int64\n",
       "AvgTransactionAmount    float64\n",
       "NumOfReturns              int64\n",
       "NumOfSupportQueries       int64\n",
       "SatisfactionScore         int64\n",
       "LastPurchaseDaysAgo       int64\n",
       "EmailOptIn                 bool\n",
       "PromotionResponse        object\n",
       "Churn                      bool\n",
       "dtype: object"
      ]
     },
     "execution_count": 229,
     "metadata": {},
     "output_type": "execute_result"
    }
   ],
   "source": [
    "data.dtypes # checking data types"
   ]
  },
  {
   "cell_type": "markdown",
   "metadata": {},
   "source": [
    "### Checking for missing values"
   ]
  },
  {
   "cell_type": "code",
   "execution_count": 230,
   "metadata": {},
   "outputs": [
    {
     "data": {
      "text/plain": [
       "CustomerID              0\n",
       "Age                     0\n",
       "Gender                  0\n",
       "AnnualIncome            0\n",
       "TotalSpend              0\n",
       "YearsAsCustomer         0\n",
       "NumOfPurchases          0\n",
       "AvgTransactionAmount    0\n",
       "NumOfReturns            0\n",
       "NumOfSupportQueries     0\n",
       "SatisfactionScore       0\n",
       "LastPurchaseDaysAgo     0\n",
       "EmailOptIn              0\n",
       "PromotionResponse       0\n",
       "Churn                   0\n",
       "dtype: int64"
      ]
     },
     "execution_count": 230,
     "metadata": {},
     "output_type": "execute_result"
    }
   ],
   "source": [
    "data.isna().sum()"
   ]
  },
  {
   "cell_type": "markdown",
   "metadata": {},
   "source": [
    "**Summary of data**"
   ]
  },
  {
   "cell_type": "code",
   "execution_count": 231,
   "metadata": {},
   "outputs": [
    {
     "data": {
      "text/html": [
       "<div>\n",
       "<style scoped>\n",
       "    .dataframe tbody tr th:only-of-type {\n",
       "        vertical-align: middle;\n",
       "    }\n",
       "\n",
       "    .dataframe tbody tr th {\n",
       "        vertical-align: top;\n",
       "    }\n",
       "\n",
       "    .dataframe thead th {\n",
       "        text-align: right;\n",
       "    }\n",
       "</style>\n",
       "<table border=\"1\" class=\"dataframe\">\n",
       "  <thead>\n",
       "    <tr style=\"text-align: right;\">\n",
       "      <th></th>\n",
       "      <th>CustomerID</th>\n",
       "      <th>Age</th>\n",
       "      <th>AnnualIncome</th>\n",
       "      <th>TotalSpend</th>\n",
       "      <th>YearsAsCustomer</th>\n",
       "      <th>NumOfPurchases</th>\n",
       "      <th>AvgTransactionAmount</th>\n",
       "      <th>NumOfReturns</th>\n",
       "      <th>NumOfSupportQueries</th>\n",
       "      <th>SatisfactionScore</th>\n",
       "      <th>LastPurchaseDaysAgo</th>\n",
       "    </tr>\n",
       "  </thead>\n",
       "  <tbody>\n",
       "    <tr>\n",
       "      <th>count</th>\n",
       "      <td>1000.000000</td>\n",
       "      <td>1000.000000</td>\n",
       "      <td>1000.000000</td>\n",
       "      <td>1000.00000</td>\n",
       "      <td>1000.000000</td>\n",
       "      <td>1000.000000</td>\n",
       "      <td>1000.000000</td>\n",
       "      <td>1000.000000</td>\n",
       "      <td>1000.000000</td>\n",
       "      <td>1000.000000</td>\n",
       "      <td>1000.000000</td>\n",
       "    </tr>\n",
       "    <tr>\n",
       "      <th>mean</th>\n",
       "      <td>500.500000</td>\n",
       "      <td>43.267000</td>\n",
       "      <td>111.962960</td>\n",
       "      <td>5080.79265</td>\n",
       "      <td>9.727000</td>\n",
       "      <td>49.456000</td>\n",
       "      <td>266.876530</td>\n",
       "      <td>4.612000</td>\n",
       "      <td>1.934000</td>\n",
       "      <td>2.974000</td>\n",
       "      <td>182.890000</td>\n",
       "    </tr>\n",
       "    <tr>\n",
       "      <th>std</th>\n",
       "      <td>288.819436</td>\n",
       "      <td>15.242311</td>\n",
       "      <td>52.844111</td>\n",
       "      <td>2862.12335</td>\n",
       "      <td>5.536346</td>\n",
       "      <td>28.543595</td>\n",
       "      <td>145.873445</td>\n",
       "      <td>2.896869</td>\n",
       "      <td>1.402716</td>\n",
       "      <td>1.391855</td>\n",
       "      <td>104.391319</td>\n",
       "    </tr>\n",
       "    <tr>\n",
       "      <th>min</th>\n",
       "      <td>1.000000</td>\n",
       "      <td>18.000000</td>\n",
       "      <td>20.010000</td>\n",
       "      <td>108.94000</td>\n",
       "      <td>1.000000</td>\n",
       "      <td>1.000000</td>\n",
       "      <td>10.460000</td>\n",
       "      <td>0.000000</td>\n",
       "      <td>0.000000</td>\n",
       "      <td>1.000000</td>\n",
       "      <td>1.000000</td>\n",
       "    </tr>\n",
       "    <tr>\n",
       "      <th>25%</th>\n",
       "      <td>250.750000</td>\n",
       "      <td>30.000000</td>\n",
       "      <td>67.800000</td>\n",
       "      <td>2678.67500</td>\n",
       "      <td>5.000000</td>\n",
       "      <td>25.000000</td>\n",
       "      <td>139.682500</td>\n",
       "      <td>2.000000</td>\n",
       "      <td>1.000000</td>\n",
       "      <td>2.000000</td>\n",
       "      <td>93.000000</td>\n",
       "    </tr>\n",
       "    <tr>\n",
       "      <th>50%</th>\n",
       "      <td>500.500000</td>\n",
       "      <td>43.000000</td>\n",
       "      <td>114.140000</td>\n",
       "      <td>4986.19500</td>\n",
       "      <td>9.000000</td>\n",
       "      <td>49.000000</td>\n",
       "      <td>270.100000</td>\n",
       "      <td>5.000000</td>\n",
       "      <td>2.000000</td>\n",
       "      <td>3.000000</td>\n",
       "      <td>180.500000</td>\n",
       "    </tr>\n",
       "    <tr>\n",
       "      <th>75%</th>\n",
       "      <td>750.250000</td>\n",
       "      <td>56.000000</td>\n",
       "      <td>158.452500</td>\n",
       "      <td>7606.47000</td>\n",
       "      <td>14.000000</td>\n",
       "      <td>74.000000</td>\n",
       "      <td>401.602500</td>\n",
       "      <td>7.000000</td>\n",
       "      <td>3.000000</td>\n",
       "      <td>4.000000</td>\n",
       "      <td>274.000000</td>\n",
       "    </tr>\n",
       "    <tr>\n",
       "      <th>max</th>\n",
       "      <td>1000.000000</td>\n",
       "      <td>69.000000</td>\n",
       "      <td>199.730000</td>\n",
       "      <td>9999.64000</td>\n",
       "      <td>19.000000</td>\n",
       "      <td>99.000000</td>\n",
       "      <td>499.570000</td>\n",
       "      <td>9.000000</td>\n",
       "      <td>4.000000</td>\n",
       "      <td>5.000000</td>\n",
       "      <td>364.000000</td>\n",
       "    </tr>\n",
       "  </tbody>\n",
       "</table>\n",
       "</div>"
      ],
      "text/plain": [
       "        CustomerID          Age  AnnualIncome  TotalSpend  YearsAsCustomer  \\\n",
       "count  1000.000000  1000.000000   1000.000000  1000.00000      1000.000000   \n",
       "mean    500.500000    43.267000    111.962960  5080.79265         9.727000   \n",
       "std     288.819436    15.242311     52.844111  2862.12335         5.536346   \n",
       "min       1.000000    18.000000     20.010000   108.94000         1.000000   \n",
       "25%     250.750000    30.000000     67.800000  2678.67500         5.000000   \n",
       "50%     500.500000    43.000000    114.140000  4986.19500         9.000000   \n",
       "75%     750.250000    56.000000    158.452500  7606.47000        14.000000   \n",
       "max    1000.000000    69.000000    199.730000  9999.64000        19.000000   \n",
       "\n",
       "       NumOfPurchases  AvgTransactionAmount  NumOfReturns  \\\n",
       "count     1000.000000           1000.000000   1000.000000   \n",
       "mean        49.456000            266.876530      4.612000   \n",
       "std         28.543595            145.873445      2.896869   \n",
       "min          1.000000             10.460000      0.000000   \n",
       "25%         25.000000            139.682500      2.000000   \n",
       "50%         49.000000            270.100000      5.000000   \n",
       "75%         74.000000            401.602500      7.000000   \n",
       "max         99.000000            499.570000      9.000000   \n",
       "\n",
       "       NumOfSupportQueries  SatisfactionScore  LastPurchaseDaysAgo  \n",
       "count          1000.000000        1000.000000          1000.000000  \n",
       "mean              1.934000           2.974000           182.890000  \n",
       "std               1.402716           1.391855           104.391319  \n",
       "min               0.000000           1.000000             1.000000  \n",
       "25%               1.000000           2.000000            93.000000  \n",
       "50%               2.000000           3.000000           180.500000  \n",
       "75%               3.000000           4.000000           274.000000  \n",
       "max               4.000000           5.000000           364.000000  "
      ]
     },
     "execution_count": 231,
     "metadata": {},
     "output_type": "execute_result"
    }
   ],
   "source": [
    "data.describe()"
   ]
  },
  {
   "cell_type": "markdown",
   "metadata": {},
   "source": [
    "### Checking for outliers"
   ]
  },
  {
   "cell_type": "code",
   "execution_count": 232,
   "metadata": {},
   "outputs": [
    {
     "data": {
      "text/plain": [
       "<AxesSubplot:>"
      ]
     },
     "execution_count": 232,
     "metadata": {},
     "output_type": "execute_result"
    },
    {
     "data": {
      "image/png": "[encoded data removed]",
      "text/plain": [
       "<Figure size 1440x720 with 1 Axes>"
      ]
     },
     "metadata": {},
     "output_type": "display_data"
    }
   ],
   "source": [
    "from sklearn.preprocessing import StandardScaler\n",
    "import matplotlib.pyplot as plt\n",
    "plt.figure(figsize=(20,10))\n",
    "scaler = StandardScaler()\n",
    "num_col = [col for col in data.select_dtypes(include=['int64','float64']).columns if col != 'CustomerID'] \n",
    "scaler.set_output(transform='pandas')\n",
    "scaler.fit(data[num_col])\n",
    "# sns.boxplot(pd.DataFrame(box.fit_transform(data.iloc[:,1:].select_dtypes(include = [\"int64\",\"float64\"]))))\n",
    "sns.boxplot(scaler.transform(data[num_col]))"
   ]
  },
  {
   "cell_type": "code",
   "execution_count": 233,
   "metadata": {},
   "outputs": [
    {
     "data": {
      "text/html": [
       "<div>\n",
       "<style scoped>\n",
       "    .dataframe tbody tr th:only-of-type {\n",
       "        vertical-align: middle;\n",
       "    }\n",
       "\n",
       "    .dataframe tbody tr th {\n",
       "        vertical-align: top;\n",
       "    }\n",
       "\n",
       "    .dataframe thead th {\n",
       "        text-align: right;\n",
       "    }\n",
       "</style>\n",
       "<table border=\"1\" class=\"dataframe\">\n",
       "  <thead>\n",
       "    <tr style=\"text-align: right;\">\n",
       "      <th></th>\n",
       "      <th>Age</th>\n",
       "      <th>AnnualIncome</th>\n",
       "      <th>TotalSpend</th>\n",
       "      <th>YearsAsCustomer</th>\n",
       "      <th>NumOfPurchases</th>\n",
       "      <th>AvgTransactionAmount</th>\n",
       "      <th>NumOfReturns</th>\n",
       "      <th>NumOfSupportQueries</th>\n",
       "      <th>SatisfactionScore</th>\n",
       "      <th>LastPurchaseDaysAgo</th>\n",
       "    </tr>\n",
       "  </thead>\n",
       "  <tbody>\n",
       "    <tr>\n",
       "      <th>count</th>\n",
       "      <td>1.000000e+03</td>\n",
       "      <td>1.000000e+03</td>\n",
       "      <td>1.000000e+03</td>\n",
       "      <td>1.000000e+03</td>\n",
       "      <td>1.000000e+03</td>\n",
       "      <td>1.000000e+03</td>\n",
       "      <td>1.000000e+03</td>\n",
       "      <td>1.000000e+03</td>\n",
       "      <td>1.000000e+03</td>\n",
       "      <td>1.000000e+03</td>\n",
       "    </tr>\n",
       "    <tr>\n",
       "      <th>mean</th>\n",
       "      <td>-1.945111e-16</td>\n",
       "      <td>8.437695e-17</td>\n",
       "      <td>2.042810e-16</td>\n",
       "      <td>-6.039613e-17</td>\n",
       "      <td>-1.136868e-16</td>\n",
       "      <td>3.730349e-16</td>\n",
       "      <td>-3.907985e-17</td>\n",
       "      <td>2.842171e-17</td>\n",
       "      <td>-1.350031e-16</td>\n",
       "      <td>1.421085e-16</td>\n",
       "    </tr>\n",
       "    <tr>\n",
       "      <th>std</th>\n",
       "      <td>1.000500e+00</td>\n",
       "      <td>1.000500e+00</td>\n",
       "      <td>1.000500e+00</td>\n",
       "      <td>1.000500e+00</td>\n",
       "      <td>1.000500e+00</td>\n",
       "      <td>1.000500e+00</td>\n",
       "      <td>1.000500e+00</td>\n",
       "      <td>1.000500e+00</td>\n",
       "      <td>1.000500e+00</td>\n",
       "      <td>1.000500e+00</td>\n",
       "    </tr>\n",
       "    <tr>\n",
       "      <th>min</th>\n",
       "      <td>-1.658518e+00</td>\n",
       "      <td>-1.740950e+00</td>\n",
       "      <td>-1.737990e+00</td>\n",
       "      <td>-1.577099e+00</td>\n",
       "      <td>-1.698463e+00</td>\n",
       "      <td>-1.758681e+00</td>\n",
       "      <td>-1.592861e+00</td>\n",
       "      <td>-1.379444e+00</td>\n",
       "      <td>-1.418961e+00</td>\n",
       "      <td>-1.743258e+00</td>\n",
       "    </tr>\n",
       "    <tr>\n",
       "      <th>25%</th>\n",
       "      <td>-8.708416e-01</td>\n",
       "      <td>-8.361397e-01</td>\n",
       "      <td>-8.396981e-01</td>\n",
       "      <td>-8.542395e-01</td>\n",
       "      <td>-8.572234e-01</td>\n",
       "      <td>-8.723841e-01</td>\n",
       "      <td>-9.021144e-01</td>\n",
       "      <td>-6.661844e-01</td>\n",
       "      <td>-7.001355e-01</td>\n",
       "      <td>-8.615178e-01</td>\n",
       "    </tr>\n",
       "    <tr>\n",
       "      <th>50%</th>\n",
       "      <td>-1.752579e-02</td>\n",
       "      <td>4.121801e-02</td>\n",
       "      <td>-3.306810e-02</td>\n",
       "      <td>-1.313798e-01</td>\n",
       "      <td>-1.598356e-02</td>\n",
       "      <td>2.210877e-02</td>\n",
       "      <td>1.340047e-01</td>\n",
       "      <td>4.707513e-02</td>\n",
       "      <td>1.868945e-02</td>\n",
       "      <td>-2.290608e-02</td>\n",
       "    </tr>\n",
       "    <tr>\n",
       "      <th>75%</th>\n",
       "      <td>8.357900e-01</td>\n",
       "      <td>8.801889e-01</td>\n",
       "      <td>8.828904e-01</td>\n",
       "      <td>7.721950e-01</td>\n",
       "      <td>8.603079e-01</td>\n",
       "      <td>9.240433e-01</td>\n",
       "      <td>8.247509e-01</td>\n",
       "      <td>7.603346e-01</td>\n",
       "      <td>7.375144e-01</td>\n",
       "      <td>8.732104e-01</td>\n",
       "    </tr>\n",
       "    <tr>\n",
       "      <th>max</th>\n",
       "      <td>1.689106e+00</td>\n",
       "      <td>1.661698e+00</td>\n",
       "      <td>1.719461e+00</td>\n",
       "      <td>1.675770e+00</td>\n",
       "      <td>1.736599e+00</td>\n",
       "      <td>1.595972e+00</td>\n",
       "      <td>1.515497e+00</td>\n",
       "      <td>1.473594e+00</td>\n",
       "      <td>1.456339e+00</td>\n",
       "      <td>1.735782e+00</td>\n",
       "    </tr>\n",
       "  </tbody>\n",
       "</table>\n",
       "</div>"
      ],
      "text/plain": [
       "                Age  AnnualIncome    TotalSpend  YearsAsCustomer  \\\n",
       "count  1.000000e+03  1.000000e+03  1.000000e+03     1.000000e+03   \n",
       "mean  -1.945111e-16  8.437695e-17  2.042810e-16    -6.039613e-17   \n",
       "std    1.000500e+00  1.000500e+00  1.000500e+00     1.000500e+00   \n",
       "min   -1.658518e+00 -1.740950e+00 -1.737990e+00    -1.577099e+00   \n",
       "25%   -8.708416e-01 -8.361397e-01 -8.396981e-01    -8.542395e-01   \n",
       "50%   -1.752579e-02  4.121801e-02 -3.306810e-02    -1.313798e-01   \n",
       "75%    8.357900e-01  8.801889e-01  8.828904e-01     7.721950e-01   \n",
       "max    1.689106e+00  1.661698e+00  1.719461e+00     1.675770e+00   \n",
       "\n",
       "       NumOfPurchases  AvgTransactionAmount  NumOfReturns  \\\n",
       "count    1.000000e+03          1.000000e+03  1.000000e+03   \n",
       "mean    -1.136868e-16          3.730349e-16 -3.907985e-17   \n",
       "std      1.000500e+00          1.000500e+00  1.000500e+00   \n",
       "min     -1.698463e+00         -1.758681e+00 -1.592861e+00   \n",
       "25%     -8.572234e-01         -8.723841e-01 -9.021144e-01   \n",
       "50%     -1.598356e-02          2.210877e-02  1.340047e-01   \n",
       "75%      8.603079e-01          9.240433e-01  8.247509e-01   \n",
       "max      1.736599e+00          1.595972e+00  1.515497e+00   \n",
       "\n",
       "       NumOfSupportQueries  SatisfactionScore  LastPurchaseDaysAgo  \n",
       "count         1.000000e+03       1.000000e+03         1.000000e+03  \n",
       "mean          2.842171e-17      -1.350031e-16         1.421085e-16  \n",
       "std           1.000500e+00       1.000500e+00         1.000500e+00  \n",
       "min          -1.379444e+00      -1.418961e+00        -1.743258e+00  \n",
       "25%          -6.661844e-01      -7.001355e-01        -8.615178e-01  \n",
       "50%           4.707513e-02       1.868945e-02        -2.290608e-02  \n",
       "75%           7.603346e-01       7.375144e-01         8.732104e-01  \n",
       "max           1.473594e+00       1.456339e+00         1.735782e+00  "
      ]
     },
     "execution_count": 233,
     "metadata": {},
     "output_type": "execute_result"
    }
   ],
   "source": [
    "scaler.transform(data[num_col]).describe()"
   ]
  },
  {
   "cell_type": "markdown",
   "metadata": {},
   "source": [
    "### Correlation Heat Map for numerical data"
   ]
  },
  {
   "cell_type": "code",
   "execution_count": 234,
   "metadata": {},
   "outputs": [
    {
     "data": {
      "text/plain": [
       "<AxesSubplot:>"
      ]
     },
     "execution_count": 234,
     "metadata": {},
     "output_type": "execute_result"
    },
    {
     "data": {
      "image/png": "[encoded data removed]",
      "text/plain": [
       "<Figure size 842.4x595.44 with 2 Axes>"
      ]
     },
     "metadata": {},
     "output_type": "display_data"
    }
   ],
   "source": [
    "num_data = data.iloc[:,1:].select_dtypes(include = [\"int64\",\"float64\"]) # customer id dropped as it is independent of churn\n",
    "sns.set_theme(rc={'figure.figsize':(11.7,8.27)})\n",
    "sns.heatmap(num_data.corr(),annot=True,cmap=\"coolwarm\",linewidths=0.5,vmin=-1,vmax=1,fmt=\".2f\")"
   ]
  },
  {
   "cell_type": "markdown",
   "metadata": {},
   "source": [
    "### **Checking unique values for columns with non-numeric and non-boolean data and encoding them accordingly**"
   ]
  },
  {
   "cell_type": "code",
   "execution_count": 235,
   "metadata": {},
   "outputs": [
    {
     "data": {
      "text/plain": [
       "array(['Other', 'Male', 'Female'], dtype=object)"
      ]
     },
     "execution_count": 235,
     "metadata": {},
     "output_type": "execute_result"
    }
   ],
   "source": [
    "data['Gender'].unique() # checking all categories for gender"
   ]
  },
  {
   "cell_type": "code",
   "execution_count": 236,
   "metadata": {},
   "outputs": [
    {
     "data": {
      "text/plain": [
       "Female    342\n",
       "Male      334\n",
       "Other     324\n",
       "Name: Gender, dtype: int64"
      ]
     },
     "execution_count": 236,
     "metadata": {},
     "output_type": "execute_result"
    }
   ],
   "source": [
    "data['Gender'].value_counts()"
   ]
  },
  {
   "cell_type": "code",
   "execution_count": 237,
   "metadata": {},
   "outputs": [
    {
     "data": {
      "text/plain": [
       "array(['Responded', 'Ignored', 'Unsubscribed'], dtype=object)"
      ]
     },
     "execution_count": 237,
     "metadata": {},
     "output_type": "execute_result"
    }
   ],
   "source": [
    "data[\"PromotionResponse\"].unique() # checking all categories for Promotion Response"
   ]
  },
  {
   "cell_type": "code",
   "execution_count": 238,
   "metadata": {},
   "outputs": [
    {
     "data": {
      "text/plain": [
       "Unsubscribed    361\n",
       "Responded       338\n",
       "Ignored         301\n",
       "Name: PromotionResponse, dtype: int64"
      ]
     },
     "execution_count": 238,
     "metadata": {},
     "output_type": "execute_result"
    }
   ],
   "source": [
    "data['PromotionResponse'].value_counts()"
   ]
  },
  {
   "cell_type": "code",
   "execution_count": 239,
   "metadata": {},
   "outputs": [],
   "source": [
    "from sklearn.preprocessing import OneHotEncoder\n",
    "enc = OneHotEncoder(sparse_output=False)\n",
    "encoded_data = enc.fit_transform(data[['Gender']])\n",
    "encoded_df = pd.DataFrame(\n",
    "    encoded_data,columns= enc.get_feature_names_out(['Gender'])\n",
    ")"
   ]
  },
  {
   "cell_type": "code",
   "execution_count": 240,
   "metadata": {},
   "outputs": [
    {
     "data": {
      "text/html": [
       "<div>\n",
       "<style scoped>\n",
       "    .dataframe tbody tr th:only-of-type {\n",
       "        vertical-align: middle;\n",
       "    }\n",
       "\n",
       "    .dataframe tbody tr th {\n",
       "        vertical-align: top;\n",
       "    }\n",
       "\n",
       "    .dataframe thead th {\n",
       "        text-align: right;\n",
       "    }\n",
       "</style>\n",
       "<table border=\"1\" class=\"dataframe\">\n",
       "  <thead>\n",
       "    <tr style=\"text-align: right;\">\n",
       "      <th></th>\n",
       "      <th>Gender_Female</th>\n",
       "      <th>Gender_Male</th>\n",
       "      <th>Gender_Other</th>\n",
       "    </tr>\n",
       "  </thead>\n",
       "  <tbody>\n",
       "    <tr>\n",
       "      <th>0</th>\n",
       "      <td>0.0</td>\n",
       "      <td>0.0</td>\n",
       "      <td>1.0</td>\n",
       "    </tr>\n",
       "    <tr>\n",
       "      <th>1</th>\n",
       "      <td>0.0</td>\n",
       "      <td>1.0</td>\n",
       "      <td>0.0</td>\n",
       "    </tr>\n",
       "    <tr>\n",
       "      <th>2</th>\n",
       "      <td>0.0</td>\n",
       "      <td>1.0</td>\n",
       "      <td>0.0</td>\n",
       "    </tr>\n",
       "    <tr>\n",
       "      <th>3</th>\n",
       "      <td>0.0</td>\n",
       "      <td>0.0</td>\n",
       "      <td>1.0</td>\n",
       "    </tr>\n",
       "    <tr>\n",
       "      <th>4</th>\n",
       "      <td>0.0</td>\n",
       "      <td>0.0</td>\n",
       "      <td>1.0</td>\n",
       "    </tr>\n",
       "  </tbody>\n",
       "</table>\n",
       "</div>"
      ],
      "text/plain": [
       "   Gender_Female  Gender_Male  Gender_Other\n",
       "0            0.0          0.0           1.0\n",
       "1            0.0          1.0           0.0\n",
       "2            0.0          1.0           0.0\n",
       "3            0.0          0.0           1.0\n",
       "4            0.0          0.0           1.0"
      ]
     },
     "execution_count": 240,
     "metadata": {},
     "output_type": "execute_result"
    }
   ],
   "source": [
    "encoded_df.head()"
   ]
  },
  {
   "cell_type": "code",
   "execution_count": 241,
   "metadata": {},
   "outputs": [],
   "source": [
    "data = data.drop([\"Gender\"],axis=1)"
   ]
  },
  {
   "cell_type": "code",
   "execution_count": 242,
   "metadata": {},
   "outputs": [
    {
     "data": {
      "text/html": [
       "<div>\n",
       "<style scoped>\n",
       "    .dataframe tbody tr th:only-of-type {\n",
       "        vertical-align: middle;\n",
       "    }\n",
       "\n",
       "    .dataframe tbody tr th {\n",
       "        vertical-align: top;\n",
       "    }\n",
       "\n",
       "    .dataframe thead th {\n",
       "        text-align: right;\n",
       "    }\n",
       "</style>\n",
       "<table border=\"1\" class=\"dataframe\">\n",
       "  <thead>\n",
       "    <tr style=\"text-align: right;\">\n",
       "      <th></th>\n",
       "      <th>CustomerID</th>\n",
       "      <th>Age</th>\n",
       "      <th>AnnualIncome</th>\n",
       "      <th>TotalSpend</th>\n",
       "      <th>YearsAsCustomer</th>\n",
       "      <th>NumOfPurchases</th>\n",
       "      <th>AvgTransactionAmount</th>\n",
       "      <th>NumOfReturns</th>\n",
       "      <th>NumOfSupportQueries</th>\n",
       "      <th>SatisfactionScore</th>\n",
       "      <th>LastPurchaseDaysAgo</th>\n",
       "      <th>EmailOptIn</th>\n",
       "      <th>PromotionResponse</th>\n",
       "      <th>Churn</th>\n",
       "    </tr>\n",
       "  </thead>\n",
       "  <tbody>\n",
       "    <tr>\n",
       "      <th>0</th>\n",
       "      <td>1</td>\n",
       "      <td>62</td>\n",
       "      <td>45.15</td>\n",
       "      <td>5892.58</td>\n",
       "      <td>5</td>\n",
       "      <td>22</td>\n",
       "      <td>453.80</td>\n",
       "      <td>2</td>\n",
       "      <td>0</td>\n",
       "      <td>3</td>\n",
       "      <td>129</td>\n",
       "      <td>True</td>\n",
       "      <td>Responded</td>\n",
       "      <td>True</td>\n",
       "    </tr>\n",
       "    <tr>\n",
       "      <th>1</th>\n",
       "      <td>2</td>\n",
       "      <td>65</td>\n",
       "      <td>79.51</td>\n",
       "      <td>9025.47</td>\n",
       "      <td>13</td>\n",
       "      <td>77</td>\n",
       "      <td>22.90</td>\n",
       "      <td>2</td>\n",
       "      <td>2</td>\n",
       "      <td>3</td>\n",
       "      <td>227</td>\n",
       "      <td>False</td>\n",
       "      <td>Responded</td>\n",
       "      <td>False</td>\n",
       "    </tr>\n",
       "    <tr>\n",
       "      <th>2</th>\n",
       "      <td>3</td>\n",
       "      <td>18</td>\n",
       "      <td>29.19</td>\n",
       "      <td>618.83</td>\n",
       "      <td>13</td>\n",
       "      <td>71</td>\n",
       "      <td>50.53</td>\n",
       "      <td>5</td>\n",
       "      <td>2</td>\n",
       "      <td>2</td>\n",
       "      <td>283</td>\n",
       "      <td>False</td>\n",
       "      <td>Responded</td>\n",
       "      <td>True</td>\n",
       "    </tr>\n",
       "    <tr>\n",
       "      <th>3</th>\n",
       "      <td>4</td>\n",
       "      <td>21</td>\n",
       "      <td>79.63</td>\n",
       "      <td>9110.30</td>\n",
       "      <td>3</td>\n",
       "      <td>33</td>\n",
       "      <td>411.83</td>\n",
       "      <td>5</td>\n",
       "      <td>3</td>\n",
       "      <td>5</td>\n",
       "      <td>226</td>\n",
       "      <td>True</td>\n",
       "      <td>Ignored</td>\n",
       "      <td>True</td>\n",
       "    </tr>\n",
       "    <tr>\n",
       "      <th>4</th>\n",
       "      <td>5</td>\n",
       "      <td>21</td>\n",
       "      <td>77.66</td>\n",
       "      <td>5390.88</td>\n",
       "      <td>15</td>\n",
       "      <td>43</td>\n",
       "      <td>101.19</td>\n",
       "      <td>3</td>\n",
       "      <td>0</td>\n",
       "      <td>5</td>\n",
       "      <td>242</td>\n",
       "      <td>False</td>\n",
       "      <td>Unsubscribed</td>\n",
       "      <td>False</td>\n",
       "    </tr>\n",
       "  </tbody>\n",
       "</table>\n",
       "</div>"
      ],
      "text/plain": [
       "   CustomerID  Age  AnnualIncome  TotalSpend  YearsAsCustomer  NumOfPurchases  \\\n",
       "0           1   62         45.15     5892.58                5              22   \n",
       "1           2   65         79.51     9025.47               13              77   \n",
       "2           3   18         29.19      618.83               13              71   \n",
       "3           4   21         79.63     9110.30                3              33   \n",
       "4           5   21         77.66     5390.88               15              43   \n",
       "\n",
       "   AvgTransactionAmount  NumOfReturns  NumOfSupportQueries  SatisfactionScore  \\\n",
       "0                453.80             2                    0                  3   \n",
       "1                 22.90             2                    2                  3   \n",
       "2                 50.53             5                    2                  2   \n",
       "3                411.83             5                    3                  5   \n",
       "4                101.19             3                    0                  5   \n",
       "\n",
       "   LastPurchaseDaysAgo  EmailOptIn PromotionResponse  Churn  \n",
       "0                  129        True         Responded   True  \n",
       "1                  227       False         Responded  False  \n",
       "2                  283       False         Responded   True  \n",
       "3                  226        True           Ignored   True  \n",
       "4                  242       False      Unsubscribed  False  "
      ]
     },
     "execution_count": 242,
     "metadata": {},
     "output_type": "execute_result"
    }
   ],
   "source": [
    "data.head()"
   ]
  },
  {
   "cell_type": "code",
   "execution_count": 243,
   "metadata": {},
   "outputs": [],
   "source": [
    "data.loc[data[\"PromotionResponse\"]==\"Responded\",\"PromotionResponse\"] = 1\n",
    "data.loc[data[\"PromotionResponse\"]==\"Ignored\",\"PromotionResponse\"] = 0\n",
    "data.loc[data[\"PromotionResponse\"]==\"Unsubscribed\",\"PromotionResponse\"] = -1\n",
    "data = data.astype({\"PromotionResponse\":int})"
   ]
  },
  {
   "cell_type": "code",
   "execution_count": 244,
   "metadata": {},
   "outputs": [],
   "source": [
    "data = pd.concat([data,encoded_df],axis=1)"
   ]
  },
  {
   "cell_type": "markdown",
   "metadata": {},
   "source": [
    "Viewing the data after encoding"
   ]
  },
  {
   "cell_type": "code",
   "execution_count": 245,
   "metadata": {},
   "outputs": [
    {
     "data": {
      "text/html": [
       "<div>\n",
       "<style scoped>\n",
       "    .dataframe tbody tr th:only-of-type {\n",
       "        vertical-align: middle;\n",
       "    }\n",
       "\n",
       "    .dataframe tbody tr th {\n",
       "        vertical-align: top;\n",
       "    }\n",
       "\n",
       "    .dataframe thead th {\n",
       "        text-align: right;\n",
       "    }\n",
       "</style>\n",
       "<table border=\"1\" class=\"dataframe\">\n",
       "  <thead>\n",
       "    <tr style=\"text-align: right;\">\n",
       "      <th></th>\n",
       "      <th>CustomerID</th>\n",
       "      <th>Age</th>\n",
       "      <th>AnnualIncome</th>\n",
       "      <th>TotalSpend</th>\n",
       "      <th>YearsAsCustomer</th>\n",
       "      <th>NumOfPurchases</th>\n",
       "      <th>AvgTransactionAmount</th>\n",
       "      <th>NumOfReturns</th>\n",
       "      <th>NumOfSupportQueries</th>\n",
       "      <th>SatisfactionScore</th>\n",
       "      <th>LastPurchaseDaysAgo</th>\n",
       "      <th>EmailOptIn</th>\n",
       "      <th>PromotionResponse</th>\n",
       "      <th>Churn</th>\n",
       "      <th>Gender_Female</th>\n",
       "      <th>Gender_Male</th>\n",
       "      <th>Gender_Other</th>\n",
       "    </tr>\n",
       "  </thead>\n",
       "  <tbody>\n",
       "    <tr>\n",
       "      <th>0</th>\n",
       "      <td>1</td>\n",
       "      <td>62</td>\n",
       "      <td>45.15</td>\n",
       "      <td>5892.58</td>\n",
       "      <td>5</td>\n",
       "      <td>22</td>\n",
       "      <td>453.80</td>\n",
       "      <td>2</td>\n",
       "      <td>0</td>\n",
       "      <td>3</td>\n",
       "      <td>129</td>\n",
       "      <td>True</td>\n",
       "      <td>1</td>\n",
       "      <td>True</td>\n",
       "      <td>0.0</td>\n",
       "      <td>0.0</td>\n",
       "      <td>1.0</td>\n",
       "    </tr>\n",
       "    <tr>\n",
       "      <th>1</th>\n",
       "      <td>2</td>\n",
       "      <td>65</td>\n",
       "      <td>79.51</td>\n",
       "      <td>9025.47</td>\n",
       "      <td>13</td>\n",
       "      <td>77</td>\n",
       "      <td>22.90</td>\n",
       "      <td>2</td>\n",
       "      <td>2</td>\n",
       "      <td>3</td>\n",
       "      <td>227</td>\n",
       "      <td>False</td>\n",
       "      <td>1</td>\n",
       "      <td>False</td>\n",
       "      <td>0.0</td>\n",
       "      <td>1.0</td>\n",
       "      <td>0.0</td>\n",
       "    </tr>\n",
       "    <tr>\n",
       "      <th>2</th>\n",
       "      <td>3</td>\n",
       "      <td>18</td>\n",
       "      <td>29.19</td>\n",
       "      <td>618.83</td>\n",
       "      <td>13</td>\n",
       "      <td>71</td>\n",
       "      <td>50.53</td>\n",
       "      <td>5</td>\n",
       "      <td>2</td>\n",
       "      <td>2</td>\n",
       "      <td>283</td>\n",
       "      <td>False</td>\n",
       "      <td>1</td>\n",
       "      <td>True</td>\n",
       "      <td>0.0</td>\n",
       "      <td>1.0</td>\n",
       "      <td>0.0</td>\n",
       "    </tr>\n",
       "    <tr>\n",
       "      <th>3</th>\n",
       "      <td>4</td>\n",
       "      <td>21</td>\n",
       "      <td>79.63</td>\n",
       "      <td>9110.30</td>\n",
       "      <td>3</td>\n",
       "      <td>33</td>\n",
       "      <td>411.83</td>\n",
       "      <td>5</td>\n",
       "      <td>3</td>\n",
       "      <td>5</td>\n",
       "      <td>226</td>\n",
       "      <td>True</td>\n",
       "      <td>0</td>\n",
       "      <td>True</td>\n",
       "      <td>0.0</td>\n",
       "      <td>0.0</td>\n",
       "      <td>1.0</td>\n",
       "    </tr>\n",
       "    <tr>\n",
       "      <th>4</th>\n",
       "      <td>5</td>\n",
       "      <td>21</td>\n",
       "      <td>77.66</td>\n",
       "      <td>5390.88</td>\n",
       "      <td>15</td>\n",
       "      <td>43</td>\n",
       "      <td>101.19</td>\n",
       "      <td>3</td>\n",
       "      <td>0</td>\n",
       "      <td>5</td>\n",
       "      <td>242</td>\n",
       "      <td>False</td>\n",
       "      <td>-1</td>\n",
       "      <td>False</td>\n",
       "      <td>0.0</td>\n",
       "      <td>0.0</td>\n",
       "      <td>1.0</td>\n",
       "    </tr>\n",
       "  </tbody>\n",
       "</table>\n",
       "</div>"
      ],
      "text/plain": [
       "   CustomerID  Age  AnnualIncome  TotalSpend  YearsAsCustomer  NumOfPurchases  \\\n",
       "0           1   62         45.15     5892.58                5              22   \n",
       "1           2   65         79.51     9025.47               13              77   \n",
       "2           3   18         29.19      618.83               13              71   \n",
       "3           4   21         79.63     9110.30                3              33   \n",
       "4           5   21         77.66     5390.88               15              43   \n",
       "\n",
       "   AvgTransactionAmount  NumOfReturns  NumOfSupportQueries  SatisfactionScore  \\\n",
       "0                453.80             2                    0                  3   \n",
       "1                 22.90             2                    2                  3   \n",
       "2                 50.53             5                    2                  2   \n",
       "3                411.83             5                    3                  5   \n",
       "4                101.19             3                    0                  5   \n",
       "\n",
       "   LastPurchaseDaysAgo  EmailOptIn  PromotionResponse  Churn  Gender_Female  \\\n",
       "0                  129        True                  1   True            0.0   \n",
       "1                  227       False                  1  False            0.0   \n",
       "2                  283       False                  1   True            0.0   \n",
       "3                  226        True                  0   True            0.0   \n",
       "4                  242       False                 -1  False            0.0   \n",
       "\n",
       "   Gender_Male  Gender_Other  \n",
       "0          0.0           1.0  \n",
       "1          1.0           0.0  \n",
       "2          1.0           0.0  \n",
       "3          0.0           1.0  \n",
       "4          0.0           1.0  "
      ]
     },
     "execution_count": 245,
     "metadata": {},
     "output_type": "execute_result"
    }
   ],
   "source": [
    "data.head()"
   ]
  },
  {
   "cell_type": "code",
   "execution_count": 246,
   "metadata": {},
   "outputs": [
    {
     "data": {
      "text/plain": [
       "CustomerID                int64\n",
       "Age                       int64\n",
       "AnnualIncome            float64\n",
       "TotalSpend              float64\n",
       "YearsAsCustomer           int64\n",
       "NumOfPurchases            int64\n",
       "AvgTransactionAmount    float64\n",
       "NumOfReturns              int64\n",
       "NumOfSupportQueries       int64\n",
       "SatisfactionScore         int64\n",
       "LastPurchaseDaysAgo       int64\n",
       "EmailOptIn                 bool\n",
       "PromotionResponse         int32\n",
       "Churn                      bool\n",
       "Gender_Female           float64\n",
       "Gender_Male             float64\n",
       "Gender_Other            float64\n",
       "dtype: object"
      ]
     },
     "execution_count": 246,
     "metadata": {},
     "output_type": "execute_result"
    }
   ],
   "source": [
    "data.dtypes"
   ]
  },
  {
   "cell_type": "code",
   "execution_count": 247,
   "metadata": {},
   "outputs": [
    {
     "data": {
      "text/plain": [
       "<AxesSubplot:>"
      ]
     },
     "execution_count": 247,
     "metadata": {},
     "output_type": "execute_result"
    },
    {
     "data": {
      "image/png": "[encoded data removed]",
      "text/plain": [
       "<Figure size 842.4x595.44 with 2 Axes>"
      ]
     },
     "metadata": {},
     "output_type": "display_data"
    }
   ],
   "source": [
    "sns.set_theme(rc={'figure.figsize':(11.7,8.27)})\n",
    "sns.heatmap(data.iloc[:,1:].corr(),vmax=1,vmin=-1,annot=True,fmt=\".2f\",linewidths=0.5,cmap='coolwarm')"
   ]
  },
  {
   "cell_type": "code",
   "execution_count": 248,
   "metadata": {},
   "outputs": [
    {
     "data": {
      "text/html": [
       "<div>\n",
       "<style scoped>\n",
       "    .dataframe tbody tr th:only-of-type {\n",
       "        vertical-align: middle;\n",
       "    }\n",
       "\n",
       "    .dataframe tbody tr th {\n",
       "        vertical-align: top;\n",
       "    }\n",
       "\n",
       "    .dataframe thead th {\n",
       "        text-align: right;\n",
       "    }\n",
       "</style>\n",
       "<table border=\"1\" class=\"dataframe\">\n",
       "  <thead>\n",
       "    <tr style=\"text-align: right;\">\n",
       "      <th></th>\n",
       "      <th>CustomerID</th>\n",
       "      <th>Age</th>\n",
       "      <th>AnnualIncome</th>\n",
       "      <th>TotalSpend</th>\n",
       "      <th>YearsAsCustomer</th>\n",
       "      <th>NumOfPurchases</th>\n",
       "      <th>AvgTransactionAmount</th>\n",
       "      <th>NumOfReturns</th>\n",
       "      <th>NumOfSupportQueries</th>\n",
       "      <th>SatisfactionScore</th>\n",
       "      <th>LastPurchaseDaysAgo</th>\n",
       "      <th>PromotionResponse</th>\n",
       "      <th>Gender_Female</th>\n",
       "      <th>Gender_Male</th>\n",
       "      <th>Gender_Other</th>\n",
       "    </tr>\n",
       "  </thead>\n",
       "  <tbody>\n",
       "    <tr>\n",
       "      <th>count</th>\n",
       "      <td>1000.000000</td>\n",
       "      <td>1000.000000</td>\n",
       "      <td>1000.000000</td>\n",
       "      <td>1000.00000</td>\n",
       "      <td>1000.000000</td>\n",
       "      <td>1000.000000</td>\n",
       "      <td>1000.000000</td>\n",
       "      <td>1000.000000</td>\n",
       "      <td>1000.000000</td>\n",
       "      <td>1000.000000</td>\n",
       "      <td>1000.000000</td>\n",
       "      <td>1000.000000</td>\n",
       "      <td>1000.000000</td>\n",
       "      <td>1000.000000</td>\n",
       "      <td>1000.000000</td>\n",
       "    </tr>\n",
       "    <tr>\n",
       "      <th>mean</th>\n",
       "      <td>500.500000</td>\n",
       "      <td>43.267000</td>\n",
       "      <td>111.962960</td>\n",
       "      <td>5080.79265</td>\n",
       "      <td>9.727000</td>\n",
       "      <td>49.456000</td>\n",
       "      <td>266.876530</td>\n",
       "      <td>4.612000</td>\n",
       "      <td>1.934000</td>\n",
       "      <td>2.974000</td>\n",
       "      <td>182.890000</td>\n",
       "      <td>-0.023000</td>\n",
       "      <td>0.342000</td>\n",
       "      <td>0.334000</td>\n",
       "      <td>0.324000</td>\n",
       "    </tr>\n",
       "    <tr>\n",
       "      <th>std</th>\n",
       "      <td>288.819436</td>\n",
       "      <td>15.242311</td>\n",
       "      <td>52.844111</td>\n",
       "      <td>2862.12335</td>\n",
       "      <td>5.536346</td>\n",
       "      <td>28.543595</td>\n",
       "      <td>145.873445</td>\n",
       "      <td>2.896869</td>\n",
       "      <td>1.402716</td>\n",
       "      <td>1.391855</td>\n",
       "      <td>104.391319</td>\n",
       "      <td>0.836164</td>\n",
       "      <td>0.474617</td>\n",
       "      <td>0.471876</td>\n",
       "      <td>0.468234</td>\n",
       "    </tr>\n",
       "    <tr>\n",
       "      <th>min</th>\n",
       "      <td>1.000000</td>\n",
       "      <td>18.000000</td>\n",
       "      <td>20.010000</td>\n",
       "      <td>108.94000</td>\n",
       "      <td>1.000000</td>\n",
       "      <td>1.000000</td>\n",
       "      <td>10.460000</td>\n",
       "      <td>0.000000</td>\n",
       "      <td>0.000000</td>\n",
       "      <td>1.000000</td>\n",
       "      <td>1.000000</td>\n",
       "      <td>-1.000000</td>\n",
       "      <td>0.000000</td>\n",
       "      <td>0.000000</td>\n",
       "      <td>0.000000</td>\n",
       "    </tr>\n",
       "    <tr>\n",
       "      <th>25%</th>\n",
       "      <td>250.750000</td>\n",
       "      <td>30.000000</td>\n",
       "      <td>67.800000</td>\n",
       "      <td>2678.67500</td>\n",
       "      <td>5.000000</td>\n",
       "      <td>25.000000</td>\n",
       "      <td>139.682500</td>\n",
       "      <td>2.000000</td>\n",
       "      <td>1.000000</td>\n",
       "      <td>2.000000</td>\n",
       "      <td>93.000000</td>\n",
       "      <td>-1.000000</td>\n",
       "      <td>0.000000</td>\n",
       "      <td>0.000000</td>\n",
       "      <td>0.000000</td>\n",
       "    </tr>\n",
       "    <tr>\n",
       "      <th>50%</th>\n",
       "      <td>500.500000</td>\n",
       "      <td>43.000000</td>\n",
       "      <td>114.140000</td>\n",
       "      <td>4986.19500</td>\n",
       "      <td>9.000000</td>\n",
       "      <td>49.000000</td>\n",
       "      <td>270.100000</td>\n",
       "      <td>5.000000</td>\n",
       "      <td>2.000000</td>\n",
       "      <td>3.000000</td>\n",
       "      <td>180.500000</td>\n",
       "      <td>0.000000</td>\n",
       "      <td>0.000000</td>\n",
       "      <td>0.000000</td>\n",
       "      <td>0.000000</td>\n",
       "    </tr>\n",
       "    <tr>\n",
       "      <th>75%</th>\n",
       "      <td>750.250000</td>\n",
       "      <td>56.000000</td>\n",
       "      <td>158.452500</td>\n",
       "      <td>7606.47000</td>\n",
       "      <td>14.000000</td>\n",
       "      <td>74.000000</td>\n",
       "      <td>401.602500</td>\n",
       "      <td>7.000000</td>\n",
       "      <td>3.000000</td>\n",
       "      <td>4.000000</td>\n",
       "      <td>274.000000</td>\n",
       "      <td>1.000000</td>\n",
       "      <td>1.000000</td>\n",
       "      <td>1.000000</td>\n",
       "      <td>1.000000</td>\n",
       "    </tr>\n",
       "    <tr>\n",
       "      <th>max</th>\n",
       "      <td>1000.000000</td>\n",
       "      <td>69.000000</td>\n",
       "      <td>199.730000</td>\n",
       "      <td>9999.64000</td>\n",
       "      <td>19.000000</td>\n",
       "      <td>99.000000</td>\n",
       "      <td>499.570000</td>\n",
       "      <td>9.000000</td>\n",
       "      <td>4.000000</td>\n",
       "      <td>5.000000</td>\n",
       "      <td>364.000000</td>\n",
       "      <td>1.000000</td>\n",
       "      <td>1.000000</td>\n",
       "      <td>1.000000</td>\n",
       "      <td>1.000000</td>\n",
       "    </tr>\n",
       "  </tbody>\n",
       "</table>\n",
       "</div>"
      ],
      "text/plain": [
       "        CustomerID          Age  AnnualIncome  TotalSpend  YearsAsCustomer  \\\n",
       "count  1000.000000  1000.000000   1000.000000  1000.00000      1000.000000   \n",
       "mean    500.500000    43.267000    111.962960  5080.79265         9.727000   \n",
       "std     288.819436    15.242311     52.844111  2862.12335         5.536346   \n",
       "min       1.000000    18.000000     20.010000   108.94000         1.000000   \n",
       "25%     250.750000    30.000000     67.800000  2678.67500         5.000000   \n",
       "50%     500.500000    43.000000    114.140000  4986.19500         9.000000   \n",
       "75%     750.250000    56.000000    158.452500  7606.47000        14.000000   \n",
       "max    1000.000000    69.000000    199.730000  9999.64000        19.000000   \n",
       "\n",
       "       NumOfPurchases  AvgTransactionAmount  NumOfReturns  \\\n",
       "count     1000.000000           1000.000000   1000.000000   \n",
       "mean        49.456000            266.876530      4.612000   \n",
       "std         28.543595            145.873445      2.896869   \n",
       "min          1.000000             10.460000      0.000000   \n",
       "25%         25.000000            139.682500      2.000000   \n",
       "50%         49.000000            270.100000      5.000000   \n",
       "75%         74.000000            401.602500      7.000000   \n",
       "max         99.000000            499.570000      9.000000   \n",
       "\n",
       "       NumOfSupportQueries  SatisfactionScore  LastPurchaseDaysAgo  \\\n",
       "count          1000.000000        1000.000000          1000.000000   \n",
       "mean              1.934000           2.974000           182.890000   \n",
       "std               1.402716           1.391855           104.391319   \n",
       "min               0.000000           1.000000             1.000000   \n",
       "25%               1.000000           2.000000            93.000000   \n",
       "50%               2.000000           3.000000           180.500000   \n",
       "75%               3.000000           4.000000           274.000000   \n",
       "max               4.000000           5.000000           364.000000   \n",
       "\n",
       "       PromotionResponse  Gender_Female  Gender_Male  Gender_Other  \n",
       "count        1000.000000    1000.000000  1000.000000   1000.000000  \n",
       "mean           -0.023000       0.342000     0.334000      0.324000  \n",
       "std             0.836164       0.474617     0.471876      0.468234  \n",
       "min            -1.000000       0.000000     0.000000      0.000000  \n",
       "25%            -1.000000       0.000000     0.000000      0.000000  \n",
       "50%             0.000000       0.000000     0.000000      0.000000  \n",
       "75%             1.000000       1.000000     1.000000      1.000000  \n",
       "max             1.000000       1.000000     1.000000      1.000000  "
      ]
     },
     "execution_count": 248,
     "metadata": {},
     "output_type": "execute_result"
    }
   ],
   "source": [
    "data.describe() # describing the data"
   ]
  },
  {
   "cell_type": "markdown",
   "metadata": {},
   "source": [
    "#### **Percentage of customers who churned in given data**"
   ]
  },
  {
   "cell_type": "code",
   "execution_count": 249,
   "metadata": {},
   "outputs": [
    {
     "data": {
      "text/plain": [
       "52.6"
      ]
     },
     "execution_count": 249,
     "metadata": {},
     "output_type": "execute_result"
    }
   ],
   "source": [
    "sum(data[\"Churn\"]==True)*100/len(data[\"Churn\"])"
   ]
  },
  {
   "cell_type": "markdown",
   "metadata": {},
   "source": [
    "#### Viewing churn and not churn statistics"
   ]
  },
  {
   "cell_type": "code",
   "execution_count": 250,
   "metadata": {},
   "outputs": [
    {
     "data": {
      "text/html": [
       "<div>\n",
       "<style scoped>\n",
       "    .dataframe tbody tr th:only-of-type {\n",
       "        vertical-align: middle;\n",
       "    }\n",
       "\n",
       "    .dataframe tbody tr th {\n",
       "        vertical-align: top;\n",
       "    }\n",
       "\n",
       "    .dataframe thead th {\n",
       "        text-align: right;\n",
       "    }\n",
       "</style>\n",
       "<table border=\"1\" class=\"dataframe\">\n",
       "  <thead>\n",
       "    <tr style=\"text-align: right;\">\n",
       "      <th></th>\n",
       "      <th>CustomerID</th>\n",
       "      <th>Age</th>\n",
       "      <th>AnnualIncome</th>\n",
       "      <th>TotalSpend</th>\n",
       "      <th>YearsAsCustomer</th>\n",
       "      <th>NumOfPurchases</th>\n",
       "      <th>AvgTransactionAmount</th>\n",
       "      <th>NumOfReturns</th>\n",
       "      <th>NumOfSupportQueries</th>\n",
       "      <th>SatisfactionScore</th>\n",
       "      <th>LastPurchaseDaysAgo</th>\n",
       "      <th>PromotionResponse</th>\n",
       "      <th>Gender_Female</th>\n",
       "      <th>Gender_Male</th>\n",
       "      <th>Gender_Other</th>\n",
       "    </tr>\n",
       "  </thead>\n",
       "  <tbody>\n",
       "    <tr>\n",
       "      <th>count</th>\n",
       "      <td>526.000000</td>\n",
       "      <td>526.000000</td>\n",
       "      <td>526.000000</td>\n",
       "      <td>526.000000</td>\n",
       "      <td>526.000000</td>\n",
       "      <td>526.000000</td>\n",
       "      <td>526.000000</td>\n",
       "      <td>526.000000</td>\n",
       "      <td>526.000000</td>\n",
       "      <td>526.000000</td>\n",
       "      <td>526.000000</td>\n",
       "      <td>526.000000</td>\n",
       "      <td>526.000000</td>\n",
       "      <td>526.000000</td>\n",
       "      <td>526.000000</td>\n",
       "    </tr>\n",
       "    <tr>\n",
       "      <th>mean</th>\n",
       "      <td>512.292776</td>\n",
       "      <td>43.133080</td>\n",
       "      <td>110.141787</td>\n",
       "      <td>5158.620399</td>\n",
       "      <td>9.570342</td>\n",
       "      <td>48.568441</td>\n",
       "      <td>263.454677</td>\n",
       "      <td>4.612167</td>\n",
       "      <td>1.946768</td>\n",
       "      <td>3.003802</td>\n",
       "      <td>181.520913</td>\n",
       "      <td>-0.009506</td>\n",
       "      <td>0.340304</td>\n",
       "      <td>0.321293</td>\n",
       "      <td>0.338403</td>\n",
       "    </tr>\n",
       "    <tr>\n",
       "      <th>std</th>\n",
       "      <td>290.451481</td>\n",
       "      <td>15.521333</td>\n",
       "      <td>52.321711</td>\n",
       "      <td>2817.295269</td>\n",
       "      <td>5.516537</td>\n",
       "      <td>28.693554</td>\n",
       "      <td>142.816603</td>\n",
       "      <td>2.827377</td>\n",
       "      <td>1.406454</td>\n",
       "      <td>1.363464</td>\n",
       "      <td>105.831342</td>\n",
       "      <td>0.836037</td>\n",
       "      <td>0.474262</td>\n",
       "      <td>0.467417</td>\n",
       "      <td>0.473617</td>\n",
       "    </tr>\n",
       "    <tr>\n",
       "      <th>min</th>\n",
       "      <td>1.000000</td>\n",
       "      <td>18.000000</td>\n",
       "      <td>20.070000</td>\n",
       "      <td>117.200000</td>\n",
       "      <td>1.000000</td>\n",
       "      <td>1.000000</td>\n",
       "      <td>10.700000</td>\n",
       "      <td>0.000000</td>\n",
       "      <td>0.000000</td>\n",
       "      <td>1.000000</td>\n",
       "      <td>3.000000</td>\n",
       "      <td>-1.000000</td>\n",
       "      <td>0.000000</td>\n",
       "      <td>0.000000</td>\n",
       "      <td>0.000000</td>\n",
       "    </tr>\n",
       "    <tr>\n",
       "      <th>25%</th>\n",
       "      <td>268.000000</td>\n",
       "      <td>29.000000</td>\n",
       "      <td>68.245000</td>\n",
       "      <td>2833.427500</td>\n",
       "      <td>5.000000</td>\n",
       "      <td>23.000000</td>\n",
       "      <td>139.897500</td>\n",
       "      <td>2.000000</td>\n",
       "      <td>1.000000</td>\n",
       "      <td>2.000000</td>\n",
       "      <td>89.250000</td>\n",
       "      <td>-1.000000</td>\n",
       "      <td>0.000000</td>\n",
       "      <td>0.000000</td>\n",
       "      <td>0.000000</td>\n",
       "    </tr>\n",
       "    <tr>\n",
       "      <th>50%</th>\n",
       "      <td>511.500000</td>\n",
       "      <td>43.000000</td>\n",
       "      <td>110.755000</td>\n",
       "      <td>5075.345000</td>\n",
       "      <td>9.000000</td>\n",
       "      <td>47.000000</td>\n",
       "      <td>262.850000</td>\n",
       "      <td>5.000000</td>\n",
       "      <td>2.000000</td>\n",
       "      <td>3.000000</td>\n",
       "      <td>182.000000</td>\n",
       "      <td>0.000000</td>\n",
       "      <td>0.000000</td>\n",
       "      <td>0.000000</td>\n",
       "      <td>0.000000</td>\n",
       "    </tr>\n",
       "    <tr>\n",
       "      <th>75%</th>\n",
       "      <td>768.250000</td>\n",
       "      <td>56.000000</td>\n",
       "      <td>157.780000</td>\n",
       "      <td>7604.025000</td>\n",
       "      <td>14.000000</td>\n",
       "      <td>73.000000</td>\n",
       "      <td>393.432500</td>\n",
       "      <td>7.000000</td>\n",
       "      <td>3.000000</td>\n",
       "      <td>4.000000</td>\n",
       "      <td>274.000000</td>\n",
       "      <td>1.000000</td>\n",
       "      <td>1.000000</td>\n",
       "      <td>1.000000</td>\n",
       "      <td>1.000000</td>\n",
       "    </tr>\n",
       "    <tr>\n",
       "      <th>max</th>\n",
       "      <td>1000.000000</td>\n",
       "      <td>69.000000</td>\n",
       "      <td>199.080000</td>\n",
       "      <td>9999.490000</td>\n",
       "      <td>19.000000</td>\n",
       "      <td>99.000000</td>\n",
       "      <td>498.820000</td>\n",
       "      <td>9.000000</td>\n",
       "      <td>4.000000</td>\n",
       "      <td>5.000000</td>\n",
       "      <td>364.000000</td>\n",
       "      <td>1.000000</td>\n",
       "      <td>1.000000</td>\n",
       "      <td>1.000000</td>\n",
       "      <td>1.000000</td>\n",
       "    </tr>\n",
       "  </tbody>\n",
       "</table>\n",
       "</div>"
      ],
      "text/plain": [
       "        CustomerID         Age  AnnualIncome   TotalSpend  YearsAsCustomer  \\\n",
       "count   526.000000  526.000000    526.000000   526.000000       526.000000   \n",
       "mean    512.292776   43.133080    110.141787  5158.620399         9.570342   \n",
       "std     290.451481   15.521333     52.321711  2817.295269         5.516537   \n",
       "min       1.000000   18.000000     20.070000   117.200000         1.000000   \n",
       "25%     268.000000   29.000000     68.245000  2833.427500         5.000000   \n",
       "50%     511.500000   43.000000    110.755000  5075.345000         9.000000   \n",
       "75%     768.250000   56.000000    157.780000  7604.025000        14.000000   \n",
       "max    1000.000000   69.000000    199.080000  9999.490000        19.000000   \n",
       "\n",
       "       NumOfPurchases  AvgTransactionAmount  NumOfReturns  \\\n",
       "count      526.000000            526.000000    526.000000   \n",
       "mean        48.568441            263.454677      4.612167   \n",
       "std         28.693554            142.816603      2.827377   \n",
       "min          1.000000             10.700000      0.000000   \n",
       "25%         23.000000            139.897500      2.000000   \n",
       "50%         47.000000            262.850000      5.000000   \n",
       "75%         73.000000            393.432500      7.000000   \n",
       "max         99.000000            498.820000      9.000000   \n",
       "\n",
       "       NumOfSupportQueries  SatisfactionScore  LastPurchaseDaysAgo  \\\n",
       "count           526.000000         526.000000           526.000000   \n",
       "mean              1.946768           3.003802           181.520913   \n",
       "std               1.406454           1.363464           105.831342   \n",
       "min               0.000000           1.000000             3.000000   \n",
       "25%               1.000000           2.000000            89.250000   \n",
       "50%               2.000000           3.000000           182.000000   \n",
       "75%               3.000000           4.000000           274.000000   \n",
       "max               4.000000           5.000000           364.000000   \n",
       "\n",
       "       PromotionResponse  Gender_Female  Gender_Male  Gender_Other  \n",
       "count         526.000000     526.000000   526.000000    526.000000  \n",
       "mean           -0.009506       0.340304     0.321293      0.338403  \n",
       "std             0.836037       0.474262     0.467417      0.473617  \n",
       "min            -1.000000       0.000000     0.000000      0.000000  \n",
       "25%            -1.000000       0.000000     0.000000      0.000000  \n",
       "50%             0.000000       0.000000     0.000000      0.000000  \n",
       "75%             1.000000       1.000000     1.000000      1.000000  \n",
       "max             1.000000       1.000000     1.000000      1.000000  "
      ]
     },
     "execution_count": 250,
     "metadata": {},
     "output_type": "execute_result"
    }
   ],
   "source": [
    "data[data['Churn']==True].describe()"
   ]
  },
  {
   "cell_type": "code",
   "execution_count": 251,
   "metadata": {},
   "outputs": [
    {
     "data": {
      "text/html": [
       "<div>\n",
       "<style scoped>\n",
       "    .dataframe tbody tr th:only-of-type {\n",
       "        vertical-align: middle;\n",
       "    }\n",
       "\n",
       "    .dataframe tbody tr th {\n",
       "        vertical-align: top;\n",
       "    }\n",
       "\n",
       "    .dataframe thead th {\n",
       "        text-align: right;\n",
       "    }\n",
       "</style>\n",
       "<table border=\"1\" class=\"dataframe\">\n",
       "  <thead>\n",
       "    <tr style=\"text-align: right;\">\n",
       "      <th></th>\n",
       "      <th>CustomerID</th>\n",
       "      <th>Age</th>\n",
       "      <th>AnnualIncome</th>\n",
       "      <th>TotalSpend</th>\n",
       "      <th>YearsAsCustomer</th>\n",
       "      <th>NumOfPurchases</th>\n",
       "      <th>AvgTransactionAmount</th>\n",
       "      <th>NumOfReturns</th>\n",
       "      <th>NumOfSupportQueries</th>\n",
       "      <th>SatisfactionScore</th>\n",
       "      <th>LastPurchaseDaysAgo</th>\n",
       "      <th>PromotionResponse</th>\n",
       "      <th>Gender_Female</th>\n",
       "      <th>Gender_Male</th>\n",
       "      <th>Gender_Other</th>\n",
       "    </tr>\n",
       "  </thead>\n",
       "  <tbody>\n",
       "    <tr>\n",
       "      <th>count</th>\n",
       "      <td>474.000000</td>\n",
       "      <td>474.000000</td>\n",
       "      <td>474.000000</td>\n",
       "      <td>474.000000</td>\n",
       "      <td>474.000000</td>\n",
       "      <td>474.000000</td>\n",
       "      <td>474.000000</td>\n",
       "      <td>474.000000</td>\n",
       "      <td>474.000000</td>\n",
       "      <td>474.000000</td>\n",
       "      <td>474.000000</td>\n",
       "      <td>474.000000</td>\n",
       "      <td>474.000000</td>\n",
       "      <td>474.000000</td>\n",
       "      <td>474.000000</td>\n",
       "    </tr>\n",
       "    <tr>\n",
       "      <th>mean</th>\n",
       "      <td>487.413502</td>\n",
       "      <td>43.415612</td>\n",
       "      <td>113.983924</td>\n",
       "      <td>4994.426835</td>\n",
       "      <td>9.900844</td>\n",
       "      <td>50.440928</td>\n",
       "      <td>270.673776</td>\n",
       "      <td>4.611814</td>\n",
       "      <td>1.919831</td>\n",
       "      <td>2.940928</td>\n",
       "      <td>184.409283</td>\n",
       "      <td>-0.037975</td>\n",
       "      <td>0.343882</td>\n",
       "      <td>0.348101</td>\n",
       "      <td>0.308017</td>\n",
       "    </tr>\n",
       "    <tr>\n",
       "      <th>std</th>\n",
       "      <td>286.735807</td>\n",
       "      <td>14.941544</td>\n",
       "      <td>53.400385</td>\n",
       "      <td>2911.605244</td>\n",
       "      <td>5.558898</td>\n",
       "      <td>28.374006</td>\n",
       "      <td>149.251718</td>\n",
       "      <td>2.975081</td>\n",
       "      <td>1.399905</td>\n",
       "      <td>1.423412</td>\n",
       "      <td>102.860017</td>\n",
       "      <td>0.836933</td>\n",
       "      <td>0.475504</td>\n",
       "      <td>0.476872</td>\n",
       "      <td>0.462161</td>\n",
       "    </tr>\n",
       "    <tr>\n",
       "      <th>min</th>\n",
       "      <td>2.000000</td>\n",
       "      <td>18.000000</td>\n",
       "      <td>20.010000</td>\n",
       "      <td>108.940000</td>\n",
       "      <td>1.000000</td>\n",
       "      <td>1.000000</td>\n",
       "      <td>10.460000</td>\n",
       "      <td>0.000000</td>\n",
       "      <td>0.000000</td>\n",
       "      <td>1.000000</td>\n",
       "      <td>1.000000</td>\n",
       "      <td>-1.000000</td>\n",
       "      <td>0.000000</td>\n",
       "      <td>0.000000</td>\n",
       "      <td>0.000000</td>\n",
       "    </tr>\n",
       "    <tr>\n",
       "      <th>25%</th>\n",
       "      <td>227.500000</td>\n",
       "      <td>31.000000</td>\n",
       "      <td>66.885000</td>\n",
       "      <td>2474.227500</td>\n",
       "      <td>5.000000</td>\n",
       "      <td>26.000000</td>\n",
       "      <td>139.490000</td>\n",
       "      <td>2.000000</td>\n",
       "      <td>1.000000</td>\n",
       "      <td>2.000000</td>\n",
       "      <td>105.000000</td>\n",
       "      <td>-1.000000</td>\n",
       "      <td>0.000000</td>\n",
       "      <td>0.000000</td>\n",
       "      <td>0.000000</td>\n",
       "    </tr>\n",
       "    <tr>\n",
       "      <th>50%</th>\n",
       "      <td>489.500000</td>\n",
       "      <td>44.000000</td>\n",
       "      <td>116.845000</td>\n",
       "      <td>4831.200000</td>\n",
       "      <td>10.000000</td>\n",
       "      <td>50.000000</td>\n",
       "      <td>282.570000</td>\n",
       "      <td>5.000000</td>\n",
       "      <td>2.000000</td>\n",
       "      <td>3.000000</td>\n",
       "      <td>174.000000</td>\n",
       "      <td>0.000000</td>\n",
       "      <td>0.000000</td>\n",
       "      <td>0.000000</td>\n",
       "      <td>0.000000</td>\n",
       "    </tr>\n",
       "    <tr>\n",
       "      <th>75%</th>\n",
       "      <td>732.750000</td>\n",
       "      <td>56.000000</td>\n",
       "      <td>160.200000</td>\n",
       "      <td>7604.907500</td>\n",
       "      <td>14.750000</td>\n",
       "      <td>76.750000</td>\n",
       "      <td>406.757500</td>\n",
       "      <td>7.000000</td>\n",
       "      <td>3.000000</td>\n",
       "      <td>4.000000</td>\n",
       "      <td>270.500000</td>\n",
       "      <td>1.000000</td>\n",
       "      <td>1.000000</td>\n",
       "      <td>1.000000</td>\n",
       "      <td>1.000000</td>\n",
       "    </tr>\n",
       "    <tr>\n",
       "      <th>max</th>\n",
       "      <td>998.000000</td>\n",
       "      <td>69.000000</td>\n",
       "      <td>199.730000</td>\n",
       "      <td>9999.640000</td>\n",
       "      <td>19.000000</td>\n",
       "      <td>99.000000</td>\n",
       "      <td>499.570000</td>\n",
       "      <td>9.000000</td>\n",
       "      <td>4.000000</td>\n",
       "      <td>5.000000</td>\n",
       "      <td>362.000000</td>\n",
       "      <td>1.000000</td>\n",
       "      <td>1.000000</td>\n",
       "      <td>1.000000</td>\n",
       "      <td>1.000000</td>\n",
       "    </tr>\n",
       "  </tbody>\n",
       "</table>\n",
       "</div>"
      ],
      "text/plain": [
       "       CustomerID         Age  AnnualIncome   TotalSpend  YearsAsCustomer  \\\n",
       "count  474.000000  474.000000    474.000000   474.000000       474.000000   \n",
       "mean   487.413502   43.415612    113.983924  4994.426835         9.900844   \n",
       "std    286.735807   14.941544     53.400385  2911.605244         5.558898   \n",
       "min      2.000000   18.000000     20.010000   108.940000         1.000000   \n",
       "25%    227.500000   31.000000     66.885000  2474.227500         5.000000   \n",
       "50%    489.500000   44.000000    116.845000  4831.200000        10.000000   \n",
       "75%    732.750000   56.000000    160.200000  7604.907500        14.750000   \n",
       "max    998.000000   69.000000    199.730000  9999.640000        19.000000   \n",
       "\n",
       "       NumOfPurchases  AvgTransactionAmount  NumOfReturns  \\\n",
       "count      474.000000            474.000000    474.000000   \n",
       "mean        50.440928            270.673776      4.611814   \n",
       "std         28.374006            149.251718      2.975081   \n",
       "min          1.000000             10.460000      0.000000   \n",
       "25%         26.000000            139.490000      2.000000   \n",
       "50%         50.000000            282.570000      5.000000   \n",
       "75%         76.750000            406.757500      7.000000   \n",
       "max         99.000000            499.570000      9.000000   \n",
       "\n",
       "       NumOfSupportQueries  SatisfactionScore  LastPurchaseDaysAgo  \\\n",
       "count           474.000000         474.000000           474.000000   \n",
       "mean              1.919831           2.940928           184.409283   \n",
       "std               1.399905           1.423412           102.860017   \n",
       "min               0.000000           1.000000             1.000000   \n",
       "25%               1.000000           2.000000           105.000000   \n",
       "50%               2.000000           3.000000           174.000000   \n",
       "75%               3.000000           4.000000           270.500000   \n",
       "max               4.000000           5.000000           362.000000   \n",
       "\n",
       "       PromotionResponse  Gender_Female  Gender_Male  Gender_Other  \n",
       "count         474.000000     474.000000   474.000000    474.000000  \n",
       "mean           -0.037975       0.343882     0.348101      0.308017  \n",
       "std             0.836933       0.475504     0.476872      0.462161  \n",
       "min            -1.000000       0.000000     0.000000      0.000000  \n",
       "25%            -1.000000       0.000000     0.000000      0.000000  \n",
       "50%             0.000000       0.000000     0.000000      0.000000  \n",
       "75%             1.000000       1.000000     1.000000      1.000000  \n",
       "max             1.000000       1.000000     1.000000      1.000000  "
      ]
     },
     "execution_count": 251,
     "metadata": {},
     "output_type": "execute_result"
    }
   ],
   "source": [
    "data[data['Churn']==False].describe()"
   ]
  },
  {
   "cell_type": "markdown",
   "metadata": {},
   "source": [
    "### **splitting into Test and Training Data**"
   ]
  },
  {
   "cell_type": "code",
   "execution_count": 252,
   "metadata": {},
   "outputs": [],
   "source": [
    "from sklearn.model_selection import train_test_split\n",
    "X = data.iloc[:,1:] # features where customer id is excluded as it is independent of Churn\n",
    "X = X.drop(['Churn'],axis=1)\n",
    "y = data[\"Churn\"] # label to be predicted\n",
    "X_train, X_test, y_train, y_test = train_test_split(X,y,test_size=0.2,random_state=42) # splits 20% for test and 80% for training"
   ]
  },
  {
   "cell_type": "code",
   "execution_count": 253,
   "metadata": {},
   "outputs": [
    {
     "data": {
      "text/plain": [
       "Index(['Age', 'AnnualIncome', 'TotalSpend', 'YearsAsCustomer',\n",
       "       'NumOfPurchases', 'AvgTransactionAmount', 'NumOfReturns',\n",
       "       'NumOfSupportQueries', 'SatisfactionScore', 'LastPurchaseDaysAgo',\n",
       "       'EmailOptIn', 'PromotionResponse', 'Gender_Female', 'Gender_Male',\n",
       "       'Gender_Other'],\n",
       "      dtype='object')"
      ]
     },
     "execution_count": 253,
     "metadata": {},
     "output_type": "execute_result"
    }
   ],
   "source": [
    "X.columns"
   ]
  },
  {
   "cell_type": "markdown",
   "metadata": {},
   "source": [
    "### **AdaBoost Classifier using Decision Trees as Base Model**"
   ]
  },
  {
   "cell_type": "code",
   "execution_count": 254,
   "metadata": {},
   "outputs": [],
   "source": [
    "clf = AdaBoostClassifier() \n",
    "from sklearn.tree import DecisionTreeClassifier\n",
    "parameters = dict()\n",
    "parameters[\"estimator\"] = [DecisionTreeClassifier(max_depth=2)]\n",
    "parameters[\"algorithm\"] = [\"SAMME\"]\n",
    "parameters[\"n_estimators\"] = [100,125,150,175,200,250,300]\n",
    "parameters[\"learning_rate\"] = [0.5,1,1.25,1.5,2]\n"
   ]
  },
  {
   "cell_type": "markdown",
   "metadata": {},
   "source": [
    "#### Hyperparametric tuning"
   ]
  },
  {
   "cell_type": "code",
   "execution_count": 255,
   "metadata": {},
   "outputs": [],
   "source": [
    "from sklearn.model_selection import GridSearchCV\n",
    "adaclf = GridSearchCV(clf,param_grid = parameters,n_jobs=-1,cv=3,verbose=3,return_train_score=True,scoring=\"accuracy\")"
   ]
  },
  {
   "cell_type": "markdown",
   "metadata": {},
   "source": [
    "#### Fitting the data"
   ]
  },
  {
   "cell_type": "code",
   "execution_count": 256,
   "metadata": {},
   "outputs": [
    {
     "name": "stdout",
     "output_type": "stream",
     "text": [
      "Fitting 3 folds for each of 35 candidates, totalling 105 fits\n"
     ]
    },
    {
     "data": {
      "text/html": [
       "<style>#sk-container-id-17 {color: black;}#sk-container-id-17 pre{padding: 0;}#sk-container-id-17 div.sk-toggleable {background-color: white;}#sk-container-id-17 label.sk-toggleable__label {cursor: pointer;display: block;width: 100%;margin-bottom: 0;padding: 0.3em;box-sizing: border-box;text-align: center;}#sk-container-id-17 label.sk-toggleable__label-arrow:before {content: \"▸\";float: left;margin-right: 0.25em;color: #696969;}#sk-container-id-17 label.sk-toggleable__label-arrow:hover:before {color: black;}#sk-container-id-17 div.sk-estimator:hover label.sk-toggleable__label-arrow:before {color: black;}#sk-container-id-17 div.sk-toggleable__content {max-height: 0;max-width: 0;overflow: hidden;text-align: left;background-color: #f0f8ff;}#sk-container-id-17 div.sk-toggleable__content pre {margin: 0.2em;color: black;border-radius: 0.25em;background-color: #f0f8ff;}#sk-container-id-17 input.sk-toggleable__control:checked~div.sk-toggleable__content {max-height: 200px;max-width: 100%;overflow: auto;}#sk-container-id-17 input.sk-toggleable__control:checked~label.sk-toggleable__label-arrow:before {content: \"▾\";}#sk-container-id-17 div.sk-estimator input.sk-toggleable__control:checked~label.sk-toggleable__label {background-color: #d4ebff;}#sk-container-id-17 div.sk-label input.sk-toggleable__control:checked~label.sk-toggleable__label {background-color: #d4ebff;}#sk-container-id-17 input.sk-hidden--visually {border: 0;clip: rect(1px 1px 1px 1px);clip: rect(1px, 1px, 1px, 1px);height: 1px;margin: -1px;overflow: hidden;padding: 0;position: absolute;width: 1px;}#sk-container-id-17 div.sk-estimator {font-family: monospace;background-color: #f0f8ff;border: 1px dotted black;border-radius: 0.25em;box-sizing: border-box;margin-bottom: 0.5em;}#sk-container-id-17 div.sk-estimator:hover {background-color: #d4ebff;}#sk-container-id-17 div.sk-parallel-item::after {content: \"\";width: 100%;border-bottom: 1px solid gray;flex-grow: 1;}#sk-container-id-17 div.sk-label:hover label.sk-toggleable__label {background-color: #d4ebff;}#sk-container-id-17 div.sk-serial::before {content: \"\";position: absolute;border-left: 1px solid gray;box-sizing: border-box;top: 0;bottom: 0;left: 50%;z-index: 0;}#sk-container-id-17 div.sk-serial {display: flex;flex-direction: column;align-items: center;background-color: white;padding-right: 0.2em;padding-left: 0.2em;position: relative;}#sk-container-id-17 div.sk-item {position: relative;z-index: 1;}#sk-container-id-17 div.sk-parallel {display: flex;align-items: stretch;justify-content: center;background-color: white;position: relative;}#sk-container-id-17 div.sk-item::before, #sk-container-id-17 div.sk-parallel-item::before {content: \"\";position: absolute;border-left: 1px solid gray;box-sizing: border-box;top: 0;bottom: 0;left: 50%;z-index: -1;}#sk-container-id-17 div.sk-parallel-item {display: flex;flex-direction: column;z-index: 1;position: relative;background-color: white;}#sk-container-id-17 div.sk-parallel-item:first-child::after {align-self: flex-end;width: 50%;}#sk-container-id-17 div.sk-parallel-item:last-child::after {align-self: flex-start;width: 50%;}#sk-container-id-17 div.sk-parallel-item:only-child::after {width: 0;}#sk-container-id-17 div.sk-dashed-wrapped {border: 1px dashed gray;margin: 0 0.4em 0.5em 0.4em;box-sizing: border-box;padding-bottom: 0.4em;background-color: white;}#sk-container-id-17 div.sk-label label {font-family: monospace;font-weight: bold;display: inline-block;line-height: 1.2em;}#sk-container-id-17 div.sk-label-container {text-align: center;}#sk-container-id-17 div.sk-container {/* jupyter's `normalize.less` sets `[hidden] { display: none; }` but bootstrap.min.css set `[hidden] { display: none !important; }` so we also need the `!important` here to be able to override the default hidden behavior on the sphinx rendered scikit-learn.org. See: https://github.com/scikit-learn/scikit-learn/issues/21755 */display: inline-block !important;position: relative;}#sk-container-id-17 div.sk-text-repr-fallback {display: none;}</style><div id=\"sk-container-id-17\" class=\"sk-top-container\"><div class=\"sk-text-repr-fallback\"><pre>GridSearchCV(cv=3, estimator=AdaBoostClassifier(), n_jobs=-1,\n",
       "             param_grid={&#x27;algorithm&#x27;: [&#x27;SAMME&#x27;],\n",
       "                         &#x27;estimator&#x27;: [DecisionTreeClassifier(max_depth=2)],\n",
       "                         &#x27;learning_rate&#x27;: [0.5, 1, 1.25, 1.5, 2],\n",
       "                         &#x27;n_estimators&#x27;: [100, 125, 150, 175, 200, 250, 300]},\n",
       "             return_train_score=True, scoring=&#x27;accuracy&#x27;, verbose=3)</pre><b>In a Jupyter environment, please rerun this cell to show the HTML representation or trust the notebook. <br />On GitHub, the HTML representation is unable to render, please try loading this page with nbviewer.org.</b></div><div class=\"sk-container\" hidden><div class=\"sk-item sk-dashed-wrapped\"><div class=\"sk-label-container\"><div class=\"sk-label sk-toggleable\"><input class=\"sk-toggleable__control sk-hidden--visually\" id=\"sk-estimator-id-49\" type=\"checkbox\" ><label for=\"sk-estimator-id-49\" class=\"sk-toggleable__label sk-toggleable__label-arrow\">GridSearchCV</label><div class=\"sk-toggleable__content\"><pre>GridSearchCV(cv=3, estimator=AdaBoostClassifier(), n_jobs=-1,\n",
       "             param_grid={&#x27;algorithm&#x27;: [&#x27;SAMME&#x27;],\n",
       "                         &#x27;estimator&#x27;: [DecisionTreeClassifier(max_depth=2)],\n",
       "                         &#x27;learning_rate&#x27;: [0.5, 1, 1.25, 1.5, 2],\n",
       "                         &#x27;n_estimators&#x27;: [100, 125, 150, 175, 200, 250, 300]},\n",
       "             return_train_score=True, scoring=&#x27;accuracy&#x27;, verbose=3)</pre></div></div></div><div class=\"sk-parallel\"><div class=\"sk-parallel-item\"><div class=\"sk-item\"><div class=\"sk-label-container\"><div class=\"sk-label sk-toggleable\"><input class=\"sk-toggleable__control sk-hidden--visually\" id=\"sk-estimator-id-50\" type=\"checkbox\" ><label for=\"sk-estimator-id-50\" class=\"sk-toggleable__label sk-toggleable__label-arrow\">estimator: AdaBoostClassifier</label><div class=\"sk-toggleable__content\"><pre>AdaBoostClassifier()</pre></div></div></div><div class=\"sk-serial\"><div class=\"sk-item\"><div class=\"sk-estimator sk-toggleable\"><input class=\"sk-toggleable__control sk-hidden--visually\" id=\"sk-estimator-id-51\" type=\"checkbox\" ><label for=\"sk-estimator-id-51\" class=\"sk-toggleable__label sk-toggleable__label-arrow\">AdaBoostClassifier</label><div class=\"sk-toggleable__content\"><pre>AdaBoostClassifier()</pre></div></div></div></div></div></div></div></div></div></div>"
      ],
      "text/plain": [
       "GridSearchCV(cv=3, estimator=AdaBoostClassifier(), n_jobs=-1,\n",
       "             param_grid={'algorithm': ['SAMME'],\n",
       "                         'estimator': [DecisionTreeClassifier(max_depth=2)],\n",
       "                         'learning_rate': [0.5, 1, 1.25, 1.5, 2],\n",
       "                         'n_estimators': [100, 125, 150, 175, 200, 250, 300]},\n",
       "             return_train_score=True, scoring='accuracy', verbose=3)"
      ]
     },
     "execution_count": 256,
     "metadata": {},
     "output_type": "execute_result"
    }
   ],
   "source": [
    "adaclf.fit(X_train,y_train) # fitting the model"
   ]
  },
  {
   "cell_type": "markdown",
   "metadata": {},
   "source": [
    "Best Parameters found and best score on training data"
   ]
  },
  {
   "cell_type": "code",
   "execution_count": 257,
   "metadata": {},
   "outputs": [
    {
     "data": {
      "text/plain": [
       "{'algorithm': 'SAMME',\n",
       " 'estimator': DecisionTreeClassifier(max_depth=2),\n",
       " 'learning_rate': 2,\n",
       " 'n_estimators': 175}"
      ]
     },
     "execution_count": 257,
     "metadata": {},
     "output_type": "execute_result"
    }
   ],
   "source": [
    "adaclf.best_params_ # best parameters found by hyperparametric tuning"
   ]
  },
  {
   "cell_type": "code",
   "execution_count": 258,
   "metadata": {},
   "outputs": [
    {
     "data": {
      "text/plain": [
       "0.5350173185773422"
      ]
     },
     "execution_count": 258,
     "metadata": {},
     "output_type": "execute_result"
    }
   ],
   "source": [
    "adaclf.best_score_ # best score during validation"
   ]
  },
  {
   "cell_type": "code",
   "execution_count": 259,
   "metadata": {},
   "outputs": [
    {
     "data": {
      "text/plain": [
       "{'algorithm': 'SAMME',\n",
       " 'base_estimator': 'deprecated',\n",
       " 'estimator__ccp_alpha': 0.0,\n",
       " 'estimator__class_weight': None,\n",
       " 'estimator__criterion': 'gini',\n",
       " 'estimator__max_depth': 2,\n",
       " 'estimator__max_features': None,\n",
       " 'estimator__max_leaf_nodes': None,\n",
       " 'estimator__min_impurity_decrease': 0.0,\n",
       " 'estimator__min_samples_leaf': 1,\n",
       " 'estimator__min_samples_split': 2,\n",
       " 'estimator__min_weight_fraction_leaf': 0.0,\n",
       " 'estimator__random_state': None,\n",
       " 'estimator__splitter': 'best',\n",
       " 'estimator': DecisionTreeClassifier(max_depth=2),\n",
       " 'learning_rate': 2,\n",
       " 'n_estimators': 175,\n",
       " 'random_state': None}"
      ]
     },
     "execution_count": 259,
     "metadata": {},
     "output_type": "execute_result"
    }
   ],
   "source": [
    "adaclf = adaclf.best_estimator_\n",
    "adaclf.get_params()"
   ]
  },
  {
   "cell_type": "code",
   "execution_count": 260,
   "metadata": {},
   "outputs": [
    {
     "data": {
      "text/plain": [
       "0.61375"
      ]
     },
     "execution_count": 260,
     "metadata": {},
     "output_type": "execute_result"
    }
   ],
   "source": [
    "adaclf.score(X_train,y_train)"
   ]
  },
  {
   "cell_type": "markdown",
   "metadata": {},
   "source": [
    "Classification report on train data"
   ]
  },
  {
   "cell_type": "code",
   "execution_count": 261,
   "metadata": {},
   "outputs": [
    {
     "name": "stdout",
     "output_type": "stream",
     "text": [
      "              precision    recall  f1-score   support\n",
      "\n",
      "   Not Churn      0.649     0.408     0.501       380\n",
      "       Churn      0.599     0.800     0.685       420\n",
      "\n",
      "    accuracy                          0.614       800\n",
      "   macro avg      0.624     0.604     0.593       800\n",
      "weighted avg      0.622     0.614     0.598       800\n",
      "\n"
     ]
    }
   ],
   "source": [
    "print(classification_report(y_train,adaclf.predict(X_train),target_names=(\"Not Churn\",\"Churn\"),digits=3))"
   ]
  },
  {
   "cell_type": "markdown",
   "metadata": {},
   "source": [
    "Confusion matrix for train data"
   ]
  },
  {
   "cell_type": "code",
   "execution_count": 262,
   "metadata": {},
   "outputs": [
    {
     "data": {
      "text/plain": [
       "array([[155, 225],\n",
       "       [ 84, 336]], dtype=int64)"
      ]
     },
     "execution_count": 262,
     "metadata": {},
     "output_type": "execute_result"
    }
   ],
   "source": [
    "confusion_matrix(y_train,adaclf.predict(X_train))"
   ]
  },
  {
   "cell_type": "markdown",
   "metadata": {},
   "source": [
    "### Evaluating performance on test data"
   ]
  },
  {
   "cell_type": "markdown",
   "metadata": {},
   "source": [
    "Accuracy score"
   ]
  },
  {
   "cell_type": "code",
   "execution_count": 263,
   "metadata": {},
   "outputs": [
    {
     "data": {
      "text/plain": [
       "0.6"
      ]
     },
     "execution_count": 263,
     "metadata": {},
     "output_type": "execute_result"
    }
   ],
   "source": [
    "adaclf.score(X_test,y_test)"
   ]
  },
  {
   "cell_type": "markdown",
   "metadata": {},
   "source": [
    "Confusion Matrix"
   ]
  },
  {
   "cell_type": "code",
   "execution_count": 264,
   "metadata": {},
   "outputs": [
    {
     "data": {
      "text/plain": [
       "array([[30, 64],\n",
       "       [16, 90]], dtype=int64)"
      ]
     },
     "execution_count": 264,
     "metadata": {},
     "output_type": "execute_result"
    }
   ],
   "source": [
    "confusion_matrix(y_test,adaclf.predict(X_test))"
   ]
  },
  {
   "cell_type": "markdown",
   "metadata": {},
   "source": [
    "F1 score, Precision and Recall"
   ]
  },
  {
   "cell_type": "code",
   "execution_count": 152,
   "metadata": {},
   "outputs": [
    {
     "data": {
      "text/html": [
       "<div>\n",
       "<style scoped>\n",
       "    .dataframe tbody tr th:only-of-type {\n",
       "        vertical-align: middle;\n",
       "    }\n",
       "\n",
       "    .dataframe tbody tr th {\n",
       "        vertical-align: top;\n",
       "    }\n",
       "\n",
       "    .dataframe thead th {\n",
       "        text-align: right;\n",
       "    }\n",
       "</style>\n",
       "<table border=\"1\" class=\"dataframe\">\n",
       "  <thead>\n",
       "    <tr style=\"text-align: right;\">\n",
       "      <th></th>\n",
       "      <th>Metric</th>\n",
       "      <th>score</th>\n",
       "    </tr>\n",
       "  </thead>\n",
       "  <tbody>\n",
       "    <tr>\n",
       "      <th>0</th>\n",
       "      <td>Accuracy</td>\n",
       "      <td>0.600000</td>\n",
       "    </tr>\n",
       "    <tr>\n",
       "      <th>1</th>\n",
       "      <td>F Score</td>\n",
       "      <td>0.692308</td>\n",
       "    </tr>\n",
       "    <tr>\n",
       "      <th>2</th>\n",
       "      <td>Precision</td>\n",
       "      <td>0.584416</td>\n",
       "    </tr>\n",
       "    <tr>\n",
       "      <th>3</th>\n",
       "      <td>Recall</td>\n",
       "      <td>0.849057</td>\n",
       "    </tr>\n",
       "  </tbody>\n",
       "</table>\n",
       "</div>"
      ],
      "text/plain": [
       "      Metric     score\n",
       "0   Accuracy  0.600000\n",
       "1    F Score  0.692308\n",
       "2  Precision  0.584416\n",
       "3     Recall  0.849057"
      ]
     },
     "execution_count": 152,
     "metadata": {},
     "output_type": "execute_result"
    }
   ],
   "source": [
    "lab = ['Accuracy','F Score','Precision','Recall']\n",
    "score = [adaclf.score(X_test,y_test),f1_score(y_test,adaclf.predict(X_test)),precision_score(y_test,adaclf.predict(X_test)),recall_score(y_test,adaclf.predict(X_test))]\n",
    "adatest = pd.DataFrame((zip(lab,score)),columns=[\"Metric\",\"score\"])\n",
    "adatest"
   ]
  },
  {
   "cell_type": "markdown",
   "metadata": {},
   "source": [
    "### **Random Forest Classifier**"
   ]
  },
  {
   "cell_type": "code",
   "execution_count": 280,
   "metadata": {},
   "outputs": [],
   "source": [
    "rf = RandomForestClassifier()\n",
    "parameters = dict()\n",
    "parameters[\"n_estimators\"] = [30,50,75,100,125,150,175,200,250,300,350,400]\n",
    "parameters[\"criterion\"] = [\"gini\"]\n",
    "parameters[\"max_features\"] = [\"log2\",None]\n",
    "parameters['max_depth'] = [2,3]\n",
    "parameters['oob_score'] = [True,False]\n",
    "parameters['ccp_alpha'] = [0,0.005,0.010]\n",
    "parameters['random_state'] = [0]\n",
    "clrf = GridSearchCV(rf,param_grid=parameters,n_jobs=-1,verbose=3,return_train_score=True,cv=3,scoring=\"accuracy\")"
   ]
  },
  {
   "cell_type": "markdown",
   "metadata": {},
   "source": [
    "Fitting the data"
   ]
  },
  {
   "cell_type": "code",
   "execution_count": 281,
   "metadata": {},
   "outputs": [
    {
     "name": "stdout",
     "output_type": "stream",
     "text": [
      "Fitting 3 folds for each of 288 candidates, totalling 864 fits\n"
     ]
    },
    {
     "data": {
      "text/html": [
       "<style>#sk-container-id-19 {color: black;}#sk-container-id-19 pre{padding: 0;}#sk-container-id-19 div.sk-toggleable {background-color: white;}#sk-container-id-19 label.sk-toggleable__label {cursor: pointer;display: block;width: 100%;margin-bottom: 0;padding: 0.3em;box-sizing: border-box;text-align: center;}#sk-container-id-19 label.sk-toggleable__label-arrow:before {content: \"▸\";float: left;margin-right: 0.25em;color: #696969;}#sk-container-id-19 label.sk-toggleable__label-arrow:hover:before {color: black;}#sk-container-id-19 div.sk-estimator:hover label.sk-toggleable__label-arrow:before {color: black;}#sk-container-id-19 div.sk-toggleable__content {max-height: 0;max-width: 0;overflow: hidden;text-align: left;background-color: #f0f8ff;}#sk-container-id-19 div.sk-toggleable__content pre {margin: 0.2em;color: black;border-radius: 0.25em;background-color: #f0f8ff;}#sk-container-id-19 input.sk-toggleable__control:checked~div.sk-toggleable__content {max-height: 200px;max-width: 100%;overflow: auto;}#sk-container-id-19 input.sk-toggleable__control:checked~label.sk-toggleable__label-arrow:before {content: \"▾\";}#sk-container-id-19 div.sk-estimator input.sk-toggleable__control:checked~label.sk-toggleable__label {background-color: #d4ebff;}#sk-container-id-19 div.sk-label input.sk-toggleable__control:checked~label.sk-toggleable__label {background-color: #d4ebff;}#sk-container-id-19 input.sk-hidden--visually {border: 0;clip: rect(1px 1px 1px 1px);clip: rect(1px, 1px, 1px, 1px);height: 1px;margin: -1px;overflow: hidden;padding: 0;position: absolute;width: 1px;}#sk-container-id-19 div.sk-estimator {font-family: monospace;background-color: #f0f8ff;border: 1px dotted black;border-radius: 0.25em;box-sizing: border-box;margin-bottom: 0.5em;}#sk-container-id-19 div.sk-estimator:hover {background-color: #d4ebff;}#sk-container-id-19 div.sk-parallel-item::after {content: \"\";width: 100%;border-bottom: 1px solid gray;flex-grow: 1;}#sk-container-id-19 div.sk-label:hover label.sk-toggleable__label {background-color: #d4ebff;}#sk-container-id-19 div.sk-serial::before {content: \"\";position: absolute;border-left: 1px solid gray;box-sizing: border-box;top: 0;bottom: 0;left: 50%;z-index: 0;}#sk-container-id-19 div.sk-serial {display: flex;flex-direction: column;align-items: center;background-color: white;padding-right: 0.2em;padding-left: 0.2em;position: relative;}#sk-container-id-19 div.sk-item {position: relative;z-index: 1;}#sk-container-id-19 div.sk-parallel {display: flex;align-items: stretch;justify-content: center;background-color: white;position: relative;}#sk-container-id-19 div.sk-item::before, #sk-container-id-19 div.sk-parallel-item::before {content: \"\";position: absolute;border-left: 1px solid gray;box-sizing: border-box;top: 0;bottom: 0;left: 50%;z-index: -1;}#sk-container-id-19 div.sk-parallel-item {display: flex;flex-direction: column;z-index: 1;position: relative;background-color: white;}#sk-container-id-19 div.sk-parallel-item:first-child::after {align-self: flex-end;width: 50%;}#sk-container-id-19 div.sk-parallel-item:last-child::after {align-self: flex-start;width: 50%;}#sk-container-id-19 div.sk-parallel-item:only-child::after {width: 0;}#sk-container-id-19 div.sk-dashed-wrapped {border: 1px dashed gray;margin: 0 0.4em 0.5em 0.4em;box-sizing: border-box;padding-bottom: 0.4em;background-color: white;}#sk-container-id-19 div.sk-label label {font-family: monospace;font-weight: bold;display: inline-block;line-height: 1.2em;}#sk-container-id-19 div.sk-label-container {text-align: center;}#sk-container-id-19 div.sk-container {/* jupyter's `normalize.less` sets `[hidden] { display: none; }` but bootstrap.min.css set `[hidden] { display: none !important; }` so we also need the `!important` here to be able to override the default hidden behavior on the sphinx rendered scikit-learn.org. See: https://github.com/scikit-learn/scikit-learn/issues/21755 */display: inline-block !important;position: relative;}#sk-container-id-19 div.sk-text-repr-fallback {display: none;}</style><div id=\"sk-container-id-19\" class=\"sk-top-container\"><div class=\"sk-text-repr-fallback\"><pre>GridSearchCV(cv=3, estimator=RandomForestClassifier(), n_jobs=-1,\n",
       "             param_grid={&#x27;ccp_alpha&#x27;: [0, 0.005, 0.01], &#x27;criterion&#x27;: [&#x27;gini&#x27;],\n",
       "                         &#x27;max_depth&#x27;: [2, 3], &#x27;max_features&#x27;: [&#x27;log2&#x27;, None],\n",
       "                         &#x27;n_estimators&#x27;: [30, 50, 75, 100, 125, 150, 175, 200,\n",
       "                                          250, 300, 350, 400],\n",
       "                         &#x27;oob_score&#x27;: [True, False], &#x27;random_state&#x27;: [0]},\n",
       "             return_train_score=True, scoring=&#x27;accuracy&#x27;, verbose=3)</pre><b>In a Jupyter environment, please rerun this cell to show the HTML representation or trust the notebook. <br />On GitHub, the HTML representation is unable to render, please try loading this page with nbviewer.org.</b></div><div class=\"sk-container\" hidden><div class=\"sk-item sk-dashed-wrapped\"><div class=\"sk-label-container\"><div class=\"sk-label sk-toggleable\"><input class=\"sk-toggleable__control sk-hidden--visually\" id=\"sk-estimator-id-55\" type=\"checkbox\" ><label for=\"sk-estimator-id-55\" class=\"sk-toggleable__label sk-toggleable__label-arrow\">GridSearchCV</label><div class=\"sk-toggleable__content\"><pre>GridSearchCV(cv=3, estimator=RandomForestClassifier(), n_jobs=-1,\n",
       "             param_grid={&#x27;ccp_alpha&#x27;: [0, 0.005, 0.01], &#x27;criterion&#x27;: [&#x27;gini&#x27;],\n",
       "                         &#x27;max_depth&#x27;: [2, 3], &#x27;max_features&#x27;: [&#x27;log2&#x27;, None],\n",
       "                         &#x27;n_estimators&#x27;: [30, 50, 75, 100, 125, 150, 175, 200,\n",
       "                                          250, 300, 350, 400],\n",
       "                         &#x27;oob_score&#x27;: [True, False], &#x27;random_state&#x27;: [0]},\n",
       "             return_train_score=True, scoring=&#x27;accuracy&#x27;, verbose=3)</pre></div></div></div><div class=\"sk-parallel\"><div class=\"sk-parallel-item\"><div class=\"sk-item\"><div class=\"sk-label-container\"><div class=\"sk-label sk-toggleable\"><input class=\"sk-toggleable__control sk-hidden--visually\" id=\"sk-estimator-id-56\" type=\"checkbox\" ><label for=\"sk-estimator-id-56\" class=\"sk-toggleable__label sk-toggleable__label-arrow\">estimator: RandomForestClassifier</label><div class=\"sk-toggleable__content\"><pre>RandomForestClassifier()</pre></div></div></div><div class=\"sk-serial\"><div class=\"sk-item\"><div class=\"sk-estimator sk-toggleable\"><input class=\"sk-toggleable__control sk-hidden--visually\" id=\"sk-estimator-id-57\" type=\"checkbox\" ><label for=\"sk-estimator-id-57\" class=\"sk-toggleable__label sk-toggleable__label-arrow\">RandomForestClassifier</label><div class=\"sk-toggleable__content\"><pre>RandomForestClassifier()</pre></div></div></div></div></div></div></div></div></div></div>"
      ],
      "text/plain": [
       "GridSearchCV(cv=3, estimator=RandomForestClassifier(), n_jobs=-1,\n",
       "             param_grid={'ccp_alpha': [0, 0.005, 0.01], 'criterion': ['gini'],\n",
       "                         'max_depth': [2, 3], 'max_features': ['log2', None],\n",
       "                         'n_estimators': [30, 50, 75, 100, 125, 150, 175, 200,\n",
       "                                          250, 300, 350, 400],\n",
       "                         'oob_score': [True, False], 'random_state': [0]},\n",
       "             return_train_score=True, scoring='accuracy', verbose=3)"
      ]
     },
     "execution_count": 281,
     "metadata": {},
     "output_type": "execute_result"
    }
   ],
   "source": [
    "clrf.fit(X_train,y_train)"
   ]
  },
  {
   "cell_type": "markdown",
   "metadata": {},
   "source": [
    "Best Parameters found and best score on training data"
   ]
  },
  {
   "cell_type": "code",
   "execution_count": 282,
   "metadata": {},
   "outputs": [
    {
     "data": {
      "text/plain": [
       "{'ccp_alpha': 0,\n",
       " 'criterion': 'gini',\n",
       " 'max_depth': 2,\n",
       " 'max_features': 'log2',\n",
       " 'n_estimators': 30,\n",
       " 'oob_score': True,\n",
       " 'random_state': 0}"
      ]
     },
     "execution_count": 282,
     "metadata": {},
     "output_type": "execute_result"
    }
   ],
   "source": [
    "clrf.best_params_ # best parameters found on training data"
   ]
  },
  {
   "cell_type": "code",
   "execution_count": 283,
   "metadata": {},
   "outputs": [
    {
     "data": {
      "text/plain": [
       "0.532487586006214"
      ]
     },
     "execution_count": 283,
     "metadata": {},
     "output_type": "execute_result"
    }
   ],
   "source": [
    "clrf.best_score_"
   ]
  },
  {
   "cell_type": "code",
   "execution_count": 284,
   "metadata": {},
   "outputs": [
    {
     "data": {
      "text/plain": [
       "{'bootstrap': True,\n",
       " 'ccp_alpha': 0,\n",
       " 'class_weight': None,\n",
       " 'criterion': 'gini',\n",
       " 'max_depth': 2,\n",
       " 'max_features': 'log2',\n",
       " 'max_leaf_nodes': None,\n",
       " 'max_samples': None,\n",
       " 'min_impurity_decrease': 0.0,\n",
       " 'min_samples_leaf': 1,\n",
       " 'min_samples_split': 2,\n",
       " 'min_weight_fraction_leaf': 0.0,\n",
       " 'n_estimators': 30,\n",
       " 'n_jobs': None,\n",
       " 'oob_score': True,\n",
       " 'random_state': 0,\n",
       " 'verbose': 0,\n",
       " 'warm_start': False}"
      ]
     },
     "execution_count": 284,
     "metadata": {},
     "output_type": "execute_result"
    }
   ],
   "source": [
    "clrf = clrf.best_estimator_\n",
    "clrf.get_params()"
   ]
  },
  {
   "cell_type": "code",
   "execution_count": 285,
   "metadata": {},
   "outputs": [
    {
     "data": {
      "text/plain": [
       "0.6"
      ]
     },
     "execution_count": 285,
     "metadata": {},
     "output_type": "execute_result"
    }
   ],
   "source": [
    "clrf.score(X_train,y_train) # score on training data"
   ]
  },
  {
   "cell_type": "markdown",
   "metadata": {},
   "source": [
    "Classification report for training data"
   ]
  },
  {
   "cell_type": "code",
   "execution_count": 286,
   "metadata": {},
   "outputs": [
    {
     "name": "stdout",
     "output_type": "stream",
     "text": [
      "              precision    recall  f1-score   support\n",
      "\n",
      "   Not Churn      0.750     0.237     0.360       380\n",
      "       Churn      0.574     0.929     0.709       420\n",
      "\n",
      "    accuracy                          0.600       800\n",
      "   macro avg      0.662     0.583     0.535       800\n",
      "weighted avg      0.657     0.600     0.543       800\n",
      "\n"
     ]
    }
   ],
   "source": [
    "print(classification_report(y_train,clrf.predict(X_train),target_names=(\"Not Churn\",\"Churn\"),digits=3))"
   ]
  },
  {
   "cell_type": "markdown",
   "metadata": {},
   "source": [
    "Confusion matrix for training data\n"
   ]
  },
  {
   "cell_type": "code",
   "execution_count": 287,
   "metadata": {},
   "outputs": [
    {
     "data": {
      "text/plain": [
       "array([[ 90, 290],\n",
       "       [ 30, 390]], dtype=int64)"
      ]
     },
     "execution_count": 287,
     "metadata": {},
     "output_type": "execute_result"
    }
   ],
   "source": [
    "confusion_matrix(y_train,clrf.predict(X_train))"
   ]
  },
  {
   "cell_type": "markdown",
   "metadata": {},
   "source": [
    "##### Feature importance as per Random Forest"
   ]
  },
  {
   "cell_type": "code",
   "execution_count": 288,
   "metadata": {},
   "outputs": [
    {
     "data": {
      "text/plain": [
       "{'Age': 0.08848172851924214,\n",
       " 'AnnualIncome': 0.16201812722902464,\n",
       " 'TotalSpend': 0.11186292984297933,\n",
       " 'YearsAsCustomer': 0.09098727924308311,\n",
       " 'NumOfPurchases': 0.10533489797260409,\n",
       " 'AvgTransactionAmount': 0.0899880391717679,\n",
       " 'NumOfReturns': 0.08244961643168218,\n",
       " 'NumOfSupportQueries': 0.03176530916968431,\n",
       " 'SatisfactionScore': 0.06203128230753127,\n",
       " 'LastPurchaseDaysAgo': 0.13085819674841695,\n",
       " 'EmailOptIn': 0.0,\n",
       " 'PromotionResponse': 0.013470672576708682,\n",
       " 'Gender_Female': 0.0,\n",
       " 'Gender_Male': 0.030751920787275535,\n",
       " 'Gender_Other': 0.0}"
      ]
     },
     "execution_count": 288,
     "metadata": {},
     "output_type": "execute_result"
    }
   ],
   "source": [
    "dict(zip(clrf.feature_names_in_,clrf.feature_importances_))"
   ]
  },
  {
   "cell_type": "markdown",
   "metadata": {},
   "source": [
    "### Evaluating performance on test data"
   ]
  },
  {
   "cell_type": "markdown",
   "metadata": {},
   "source": [
    "Accuracy score"
   ]
  },
  {
   "cell_type": "code",
   "execution_count": 291,
   "metadata": {},
   "outputs": [
    {
     "data": {
      "text/plain": [
       "0.53"
      ]
     },
     "execution_count": 291,
     "metadata": {},
     "output_type": "execute_result"
    }
   ],
   "source": [
    "clrf.score(X_test,y_test)"
   ]
  },
  {
   "cell_type": "markdown",
   "metadata": {},
   "source": [
    "confusion matrix"
   ]
  },
  {
   "cell_type": "code",
   "execution_count": 290,
   "metadata": {},
   "outputs": [
    {
     "data": {
      "text/plain": [
       "array([[ 9, 85],\n",
       "       [ 9, 97]], dtype=int64)"
      ]
     },
     "execution_count": 290,
     "metadata": {},
     "output_type": "execute_result"
    }
   ],
   "source": [
    "confusion_matrix(y_test,clrf.predict(X_test))"
   ]
  },
  {
   "cell_type": "markdown",
   "metadata": {},
   "source": [
    "F score, Precision and Recall"
   ]
  },
  {
   "cell_type": "code",
   "execution_count": 292,
   "metadata": {},
   "outputs": [
    {
     "data": {
      "text/html": [
       "<div>\n",
       "<style scoped>\n",
       "    .dataframe tbody tr th:only-of-type {\n",
       "        vertical-align: middle;\n",
       "    }\n",
       "\n",
       "    .dataframe tbody tr th {\n",
       "        vertical-align: top;\n",
       "    }\n",
       "\n",
       "    .dataframe thead th {\n",
       "        text-align: right;\n",
       "    }\n",
       "</style>\n",
       "<table border=\"1\" class=\"dataframe\">\n",
       "  <thead>\n",
       "    <tr style=\"text-align: right;\">\n",
       "      <th></th>\n",
       "      <th>Metric</th>\n",
       "      <th>score</th>\n",
       "    </tr>\n",
       "  </thead>\n",
       "  <tbody>\n",
       "    <tr>\n",
       "      <th>0</th>\n",
       "      <td>Accuracy</td>\n",
       "      <td>0.530000</td>\n",
       "    </tr>\n",
       "    <tr>\n",
       "      <th>1</th>\n",
       "      <td>F Score</td>\n",
       "      <td>0.673611</td>\n",
       "    </tr>\n",
       "    <tr>\n",
       "      <th>2</th>\n",
       "      <td>Precision</td>\n",
       "      <td>0.532967</td>\n",
       "    </tr>\n",
       "    <tr>\n",
       "      <th>3</th>\n",
       "      <td>Recall</td>\n",
       "      <td>0.915094</td>\n",
       "    </tr>\n",
       "  </tbody>\n",
       "</table>\n",
       "</div>"
      ],
      "text/plain": [
       "      Metric     score\n",
       "0   Accuracy  0.530000\n",
       "1    F Score  0.673611\n",
       "2  Precision  0.532967\n",
       "3     Recall  0.915094"
      ]
     },
     "execution_count": 292,
     "metadata": {},
     "output_type": "execute_result"
    }
   ],
   "source": [
    "lab = ['Accuracy','F Score','Precision','Recall']\n",
    "score = [clrf.score(X_test,y_test),f1_score(y_test,clrf.predict(X_test)),precision_score(y_test,clrf.predict(X_test)),recall_score(y_test,clrf.predict(X_test))]\n",
    "rftest = pd.DataFrame((zip(lab,score)),columns=[\"Metric\",\"score\"])\n",
    "rftest"
   ]
  },
  {
   "cell_type": "markdown",
   "metadata": {},
   "source": [
    "### Comparing the results"
   ]
  },
  {
   "cell_type": "markdown",
   "metadata": {},
   "source": [
    "Confusion matrix\n",
    "\n",
    "$\\left(\\begin{array}{cc} \n",
    "TP & FP\\\\\n",
    "FN & TN\n",
    "\\end{array}\\right)$ where N = The customer churns and P = The Customer does not churn"
   ]
  },
  {
   "cell_type": "markdown",
   "metadata": {},
   "source": [
    "Adaboost"
   ]
  },
  {
   "cell_type": "code",
   "execution_count": 293,
   "metadata": {},
   "outputs": [
    {
     "data": {
      "text/plain": [
       "array([[30, 64],\n",
       "       [16, 90]], dtype=int64)"
      ]
     },
     "execution_count": 293,
     "metadata": {},
     "output_type": "execute_result"
    }
   ],
   "source": [
    "confusion_matrix(y_test,adaclf.predict(X_test))"
   ]
  },
  {
   "cell_type": "markdown",
   "metadata": {},
   "source": [
    "Random Forest"
   ]
  },
  {
   "cell_type": "code",
   "execution_count": 294,
   "metadata": {},
   "outputs": [
    {
     "data": {
      "text/plain": [
       "array([[ 9, 85],\n",
       "       [ 9, 97]], dtype=int64)"
      ]
     },
     "execution_count": 294,
     "metadata": {},
     "output_type": "execute_result"
    }
   ],
   "source": [
    "confusion_matrix(y_test,clrf.predict(X_test))"
   ]
  },
  {
   "cell_type": "markdown",
   "metadata": {},
   "source": [
    "##### Scores on the test data"
   ]
  },
  {
   "cell_type": "markdown",
   "metadata": {},
   "source": [
    "AdaBoost"
   ]
  },
  {
   "cell_type": "code",
   "execution_count": 295,
   "metadata": {},
   "outputs": [
    {
     "name": "stdout",
     "output_type": "stream",
     "text": [
      "Classification Report for AdaBoost\n",
      "              precision    recall  f1-score   support\n",
      "\n",
      "   Not Churn      0.652     0.319     0.429        94\n",
      "       Churn      0.584     0.849     0.692       106\n",
      "\n",
      "    accuracy                          0.600       200\n",
      "   macro avg      0.618     0.584     0.560       200\n",
      "weighted avg      0.616     0.600     0.568       200\n",
      "\n"
     ]
    }
   ],
   "source": [
    "print(\"Classification Report for AdaBoost\")\n",
    "print(classification_report(y_test,adaclf.predict(X_test),target_names=(\"Not Churn\",\"Churn\"),digits=3))"
   ]
  },
  {
   "cell_type": "markdown",
   "metadata": {},
   "source": [
    "Random Forest"
   ]
  },
  {
   "cell_type": "code",
   "execution_count": 296,
   "metadata": {},
   "outputs": [
    {
     "name": "stdout",
     "output_type": "stream",
     "text": [
      "Classification Report for Random Forest\n",
      "              precision    recall  f1-score   support\n",
      "\n",
      "   Not Churn      0.500     0.096     0.161        94\n",
      "       Churn      0.533     0.915     0.674       106\n",
      "\n",
      "    accuracy                          0.530       200\n",
      "   macro avg      0.516     0.505     0.417       200\n",
      "weighted avg      0.517     0.530     0.433       200\n",
      "\n"
     ]
    }
   ],
   "source": [
    "print(\"Classification Report for Random Forest\")\n",
    "print(classification_report(y_test,clrf.predict(X_test),target_names=(\"Not Churn\",\"Churn\"),digits=3))"
   ]
  }
 ],
 "metadata": {
  "kernelspec": {
   "display_name": "Python 3",
   "language": "python",
   "name": "python3"
  },
  "language_info": {
   "codemirror_mode": {
    "name": "ipython",
    "version": 3
   },
   "file_extension": ".py",
   "mimetype": "text/x-python",
   "name": "python",
   "nbconvert_exporter": "python",
   "pygments_lexer": "ipython3",
   "version": "3.8.5"
  }
 },
 "nbformat": 4,
 "nbformat_minor": 2
}
